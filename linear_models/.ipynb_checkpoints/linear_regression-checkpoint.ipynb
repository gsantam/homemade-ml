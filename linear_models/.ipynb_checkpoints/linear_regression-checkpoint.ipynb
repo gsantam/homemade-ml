{
 "cells": [
  {
   "cell_type": "markdown",
   "metadata": {},
   "source": [
    "## Linear regression"
   ]
  },
  {
   "cell_type": "markdown",
   "metadata": {},
   "source": [
    "Linear regression is one of the most popular regressions algorithms around the world. It learns a model which is a linear combination of features of the input example. \n",
    "\n",
    "Given a colection of labeled examples $(X,Y)$, let $x$ be a feature vector of the collection, and therefore we can write $x = (x_{1},\\dots, x_{m})$ and let $y$ be the label of that example. Then, linear regression finds a vector of weights $w = (w_{1},\\dots, w_{m})$ and a bias $b$, such that, if $f_{w,b}(x) = \\sum_{1}^{n} x_{i}w_{i} + b$, these weights and bias minimize $L(w,b) = \\frac{1}{|X|}\\sum_{(x,y)\\in (X,Y)} (f_{w,b}(x) - y)^{2}$, also called the square error."
   ]
  },
  {
   "cell_type": "markdown",
   "metadata": {},
   "source": [
    "### The minimization problem"
   ]
  },
  {
   "cell_type": "markdown",
   "metadata": {},
   "source": [
    "The function $L(w,b) = \\frac{1}{|X|}\\sum_{(x,y)\\in (X,Y)} (f_{w,b}(x) - y)^{2}$ is differentiable on $w$ and $b$ because it is a sum of differentiable functions. Furthermore, one can see that is convex and therefore each local minimum is global. Therefore we are in the conditions of applying the gradient descent algorithm to find a local minimum with respect to $w$ and $b$ which will be global."
   ]
  },
  {
   "cell_type": "markdown",
   "metadata": {},
   "source": [
    "Let's compute the following derivatives:"
   ]
  },
  {
   "cell_type": "markdown",
   "metadata": {},
   "source": [
    "$\\frac{\\partial L(w,b)}{\\partial w_{i}} = \\frac{2}{|X|}\\sum_{(x,y)\\in (X,Y)} (f_{w,b}(x) - y)x_{i} $\n",
    "\n",
    "and \n",
    "\n",
    "$\\frac{\\partial L(w,b)}{b} = \\frac{2}{|X|}\\sum_{(x,y)\\in (X,Y)} (f_{w,b}(x) - y) $\n"
   ]
  },
  {
   "cell_type": "markdown",
   "metadata": {},
   "source": [
    "So the gradient of $L(w,b)$ is just:"
   ]
  },
  {
   "cell_type": "markdown",
   "metadata": {},
   "source": [
    "$\\nabla L(w,b) = \\frac{2}{|X|}\\sum_{(x,y)\\in (X,Y)} (f_{w,b}(x) - y)(x_{1},\\dotso,x_{n},1)$"
   ]
  },
  {
   "cell_type": "code",
   "execution_count": 1,
   "metadata": {},
   "outputs": [],
   "source": [
    "from sklearn.datasets import load_boston\n",
    "import numpy as np\n",
    "import statsmodels.api as sm\n",
    "from scipy import stats\n",
    "import matplotlib.pyplot as plt\n",
    "import math \n"
   ]
  },
  {
   "cell_type": "code",
   "execution_count": 2,
   "metadata": {},
   "outputs": [],
   "source": [
    "boston_dataset = load_boston()"
   ]
  },
  {
   "cell_type": "markdown",
   "metadata": {},
   "source": [
    "Load the boston dataset:"
   ]
  },
  {
   "cell_type": "code",
   "execution_count": 3,
   "metadata": {},
   "outputs": [],
   "source": [
    "X = boston_dataset[\"data\"]\n",
    "y = boston_dataset[\"target\"]"
   ]
  },
  {
   "cell_type": "markdown",
   "metadata": {},
   "source": [
    "### Implementation"
   ]
  },
  {
   "cell_type": "markdown",
   "metadata": {},
   "source": [
    "`Mse` is the function we want to minimize and `gradient` is its gradient, as computed above:"
   ]
  },
  {
   "cell_type": "code",
   "execution_count": 7,
   "metadata": {},
   "outputs": [],
   "source": [
    "def mse(w):\n",
    "    return (1/(2*X_.shape[0]))*np.sum((np.dot(X_,w) -y)**2)\n",
    "\n",
    "def gradient(w):\n",
    "    \n",
    "    gradient = (1/(X_.shape[0]))*np.dot((np.dot(X_,w) - y),X_)\n",
    "    return gradient"
   ]
  },
  {
   "cell_type": "markdown",
   "metadata": {},
   "source": [
    "Let's start using the raw features (without normazligin). Add a column of ones on the feature matrix to represent the bias:"
   ]
  },
  {
   "cell_type": "code",
   "execution_count": 4,
   "metadata": {},
   "outputs": [],
   "source": [
    "X_ = np.hstack((X,np.ones((X.shape[0],1))))\n"
   ]
  },
  {
   "cell_type": "markdown",
   "metadata": {},
   "source": [
    "Initialize the weight vector to 0:"
   ]
  },
  {
   "cell_type": "code",
   "execution_count": 5,
   "metadata": {},
   "outputs": [],
   "source": [
    "w_0 = [0 for i in range(X_.shape[1])]\n"
   ]
  },
  {
   "cell_type": "markdown",
   "metadata": {},
   "source": [
    "Use gradient descent over the function described above the compute the weights that minimize the `mse`:"
   ]
  },
  {
   "cell_type": "code",
   "execution_count": 8,
   "metadata": {
    "scrolled": true
   },
   "outputs": [
    {
     "name": "stdout",
     "output_type": "stream",
     "text": [
      "60\n",
      "The algorithm didn't converge\n",
      "The algorithm converged in 60 iters\n"
     ]
    },
    {
     "name": "stderr",
     "output_type": "stream",
     "text": [
      "/home/guillermo/.local/lib/python3.8/site-packages/numpy/core/fromnumeric.py:87: RuntimeWarning: overflow encountered in reduce\n",
      "  return ufunc.reduce(obj, axis, dtype, out, **passkwargs)\n"
     ]
    }
   ],
   "source": [
    "from gradient_descent.gradient_descent_impl import gradient_descent_\n",
    "\n",
    "\n",
    "\n",
    "x_iters = gradient_descent_(gamma = 0.001,function = mse,d_function = gradient,x_0 = w_0,max_steps = 300000)"
   ]
  },
  {
   "cell_type": "markdown",
   "metadata": {},
   "source": [
    "The algorithm does not converge (the gradient explodes), this is how the weights look like:"
   ]
  },
  {
   "cell_type": "code",
   "execution_count": 9,
   "metadata": {
    "scrolled": true
   },
   "outputs": [
    {
     "data": {
      "text/plain": [
       "array([4.27736514e+143, 9.51823706e+143, 1.15353753e+144, 6.53256130e+141,\n",
       "       5.43155974e+142, 5.96004936e+143, 6.80934266e+144, 3.41884692e+143,\n",
       "       1.05533381e+144, 4.21026062e+145, 1.78075133e+144, 3.40185419e+145,\n",
       "       1.27263759e+144, 9.54504831e+142])"
      ]
     },
     "execution_count": 9,
     "metadata": {},
     "output_type": "execute_result"
    }
   ],
   "source": [
    "x_iters[-1]"
   ]
  },
  {
   "cell_type": "markdown",
   "metadata": {},
   "source": [
    "Let's try with just 5 features:"
   ]
  },
  {
   "cell_type": "code",
   "execution_count": 10,
   "metadata": {},
   "outputs": [
    {
     "name": "stdout",
     "output_type": "stream",
     "text": [
      "The algorithm converged in 197438 iters\n"
     ]
    }
   ],
   "source": [
    "X = boston_dataset[\"data\"][:,:5]\n",
    "y = boston_dataset[\"target\"]\n",
    "X_ = np.hstack((X,np.ones((X.shape[0],1))))\n",
    "w_0 = [0 for i in range(X_.shape[1])]\n",
    "x_iters = gradient_descent_(gamma = 0.001,function = mse,d_function = gradient,x_0 = w_0,max_steps = 300000)"
   ]
  },
  {
   "cell_type": "markdown",
   "metadata": {},
   "source": [
    "Now the algorithm seems to converge now, this is how the weights look like:"
   ]
  },
  {
   "cell_type": "code",
   "execution_count": 11,
   "metadata": {},
   "outputs": [
    {
     "data": {
      "text/plain": [
       "array([-0.23179669,  0.06136086, -0.44889739,  6.85901776,  1.3193828 ,\n",
       "       26.45312429])"
      ]
     },
     "execution_count": 11,
     "metadata": {},
     "output_type": "execute_result"
    }
   ],
   "source": [
    "x_iters[-1]"
   ]
  },
  {
   "cell_type": "markdown",
   "metadata": {},
   "source": [
    "And this is the resulting `mse`:"
   ]
  },
  {
   "cell_type": "code",
   "execution_count": 12,
   "metadata": {},
   "outputs": [
    {
     "data": {
      "text/plain": [
       "28.342122390181416"
      ]
     },
     "execution_count": 12,
     "metadata": {},
     "output_type": "execute_result"
    }
   ],
   "source": [
    "mse(x_iters[-1])"
   ]
  },
  {
   "cell_type": "markdown",
   "metadata": {},
   "source": [
    "Let's compare it with the results from the `statsmodels` library:"
   ]
  },
  {
   "cell_type": "code",
   "execution_count": 13,
   "metadata": {
    "scrolled": false
   },
   "outputs": [
    {
     "data": {
      "text/plain": [
       "array([-0.21851904,  0.05511047, -0.38348055,  7.02622266, -5.42465902,\n",
       "       29.48994059])"
      ]
     },
     "execution_count": 13,
     "metadata": {},
     "output_type": "execute_result"
    }
   ],
   "source": [
    "est = sm.OLS(y, X_)\n",
    "est2 = est.fit()\n",
    "weights = np.array([(ci[0]+ci[1])/2 for ci in est2.conf_int()])\n",
    "weights"
   ]
  },
  {
   "cell_type": "markdown",
   "metadata": {},
   "source": [
    "this is the `mse` of the model of `statsmodels`:"
   ]
  },
  {
   "cell_type": "code",
   "execution_count": 14,
   "metadata": {},
   "outputs": [
    {
     "data": {
      "text/plain": [
       "28.225142485037725"
      ]
     },
     "execution_count": 14,
     "metadata": {},
     "output_type": "execute_result"
    }
   ],
   "source": [
    "mse(weights)"
   ]
  },
  {
   "cell_type": "markdown",
   "metadata": {},
   "source": [
    "The weights look quite similar (there are some of them that are quite different, this is probably due to a large standard error, we will look at this later), and the `mse` of both is quite close. Let's try standarizing the input matrix but columns:"
   ]
  },
  {
   "cell_type": "code",
   "execution_count": 15,
   "metadata": {},
   "outputs": [],
   "source": [
    "X = (X- np.mean(X,axis = 0)) / np.std(X,axis = 0)\n",
    "X_ = np.hstack((X,np.ones((X.shape[0],1))))"
   ]
  },
  {
   "cell_type": "markdown",
   "metadata": {},
   "source": [
    "Now the convergence is much faster (9880 it vs 197438 before) and the resulting `mse` is better too (28.2272 vs 28.342 before), so doing gradient descent in a surface where all the dimensions are standarized helps a lot. This is bassically because by standarizing we give the error surface a more spherical shape, where it would otherwise be a very high curvature ellipse. "
   ]
  },
  {
   "cell_type": "code",
   "execution_count": 16,
   "metadata": {},
   "outputs": [
    {
     "name": "stdout",
     "output_type": "stream",
     "text": [
      "The algorithm converged in 9880 iters\n"
     ]
    },
    {
     "data": {
      "text/plain": [
       "array([-1.87469585,  1.28684722, -2.53341003,  1.78670841, -0.72300136,\n",
       "       22.53165745])"
      ]
     },
     "execution_count": 16,
     "metadata": {},
     "output_type": "execute_result"
    }
   ],
   "source": [
    "x_iters = gradient_descent_(gamma = 0.001,function = mse,d_function = gradient,x_0 = w_0,max_steps = 300000)\n",
    "x_iters[-1]"
   ]
  },
  {
   "cell_type": "code",
   "execution_count": 17,
   "metadata": {},
   "outputs": [
    {
     "data": {
      "text/plain": [
       "28.22726639524276"
      ]
     },
     "execution_count": 17,
     "metadata": {},
     "output_type": "execute_result"
    }
   ],
   "source": [
    "mse(x_iters[-1])"
   ]
  },
  {
   "cell_type": "markdown",
   "metadata": {},
   "source": [
    "The weights are also more similar from those coming from the `statsmodel` library:"
   ]
  },
  {
   "cell_type": "code",
   "execution_count": 18,
   "metadata": {},
   "outputs": [
    {
     "data": {
      "text/plain": [
       "array([-1.87774315,  1.28404076, -2.62821098,  1.78285436, -0.62797543,\n",
       "       22.53280632])"
      ]
     },
     "execution_count": 18,
     "metadata": {},
     "output_type": "execute_result"
    }
   ],
   "source": [
    "est = sm.OLS(y, X_)\n",
    "est2 = est.fit()\n",
    "weights = np.array([(ci[0]+ci[1])/2 for ci in est2.conf_int()])\n",
    "weights"
   ]
  },
  {
   "cell_type": "markdown",
   "metadata": {},
   "source": [
    "So now, let's try to use the whole dataset, standarizing:"
   ]
  },
  {
   "cell_type": "code",
   "execution_count": 4,
   "metadata": {},
   "outputs": [],
   "source": [
    "def bias_and_standarize(X):\n",
    "    X = (X- np.mean(X,axis = 0)) / np.std(X,axis = 0)\n",
    "    X_ = np.hstack((X,np.ones((X.shape[0],1))))\n",
    "    return X_"
   ]
  },
  {
   "cell_type": "code",
   "execution_count": 290,
   "metadata": {},
   "outputs": [
    {
     "name": "stdout",
     "output_type": "stream",
     "text": [
      "The algorithm converged in 30233 iters\n"
     ]
    }
   ],
   "source": [
    "X = boston_dataset[\"data\"]\n",
    "y = boston_dataset[\"target\"]\n",
    "X_ = bias_and_standarize(X)\n",
    "w = [0 for i in range(X_.shape[1])]\n",
    "x_iters = gradient_descent_(gamma = 0.001,function = mse,d_function = gradient,x_0 = w,max_steps = 300000)"
   ]
  },
  {
   "cell_type": "code",
   "execution_count": 20,
   "metadata": {},
   "outputs": [
    {
     "data": {
      "text/plain": [
       "array([-9.03281369e-01,  1.03848223e+00,  1.64521755e-02,  6.99398463e-01,\n",
       "       -2.02116216e+00,  2.69996698e+00, -1.76882506e-03, -3.10220572e+00,\n",
       "        2.34628630e+00, -1.72344786e+00, -2.04624341e+00,  8.47870159e-01,\n",
       "       -3.73098992e+00,  2.25328063e+01])"
      ]
     },
     "execution_count": 20,
     "metadata": {},
     "output_type": "execute_result"
    }
   ],
   "source": [
    "x_iters[-1]"
   ]
  },
  {
   "cell_type": "markdown",
   "metadata": {},
   "source": [
    "### Distribution of the parameters"
   ]
  },
  {
   "cell_type": "markdown",
   "metadata": {},
   "source": [
    "And let's go a little bit more specific on the summary provided by the `statsmodel` library, we are going to try to replicate it with our own tools:"
   ]
  },
  {
   "cell_type": "code",
   "execution_count": 291,
   "metadata": {},
   "outputs": [
    {
     "name": "stdout",
     "output_type": "stream",
     "text": [
      "                            OLS Regression Results                            \n",
      "==============================================================================\n",
      "Dep. Variable:                      y   R-squared:                       0.741\n",
      "Model:                            OLS   Adj. R-squared:                  0.734\n",
      "Method:                 Least Squares   F-statistic:                     108.1\n",
      "Date:                Thu, 08 Oct 2020   Prob (F-statistic):          6.72e-135\n",
      "Time:                        00:16:44   Log-Likelihood:                -1498.8\n",
      "No. Observations:                 506   AIC:                             3026.\n",
      "Df Residuals:                     492   BIC:                             3085.\n",
      "Df Model:                          13                                         \n",
      "Covariance Type:            nonrobust                                         \n",
      "==============================================================================\n",
      "                 coef    std err          t      P>|t|      [0.025      0.975]\n",
      "------------------------------------------------------------------------------\n",
      "x1            -0.9281      0.282     -3.287      0.001      -1.483      -0.373\n",
      "x2             1.0816      0.320      3.382      0.001       0.453       1.710\n",
      "x3             0.1409      0.421      0.334      0.738      -0.687       0.969\n",
      "x4             0.6817      0.219      3.118      0.002       0.252       1.111\n",
      "x5            -2.0567      0.442     -4.651      0.000      -2.926      -1.188\n",
      "x6             2.6742      0.293      9.116      0.000       2.098       3.251\n",
      "x7             0.0195      0.371      0.052      0.958      -0.710       0.749\n",
      "x8            -3.1040      0.420     -7.398      0.000      -3.928      -2.280\n",
      "x9             2.6622      0.577      4.613      0.000       1.528       3.796\n",
      "x10           -2.0768      0.633     -3.280      0.001      -3.321      -0.833\n",
      "x11           -2.0606      0.283     -7.283      0.000      -2.617      -1.505\n",
      "x12            0.8493      0.245      3.467      0.001       0.368       1.331\n",
      "x13           -3.7436      0.362    -10.347      0.000      -4.454      -3.033\n",
      "const         22.5328      0.211    106.814      0.000      22.118      22.947\n",
      "==============================================================================\n",
      "Omnibus:                      178.041   Durbin-Watson:                   1.078\n",
      "Prob(Omnibus):                  0.000   Jarque-Bera (JB):              783.126\n",
      "Skew:                           1.521   Prob(JB):                    8.84e-171\n",
      "Kurtosis:                       8.281   Cond. No.                         9.82\n",
      "==============================================================================\n",
      "\n",
      "Notes:\n",
      "[1] Standard Errors assume that the covariance matrix of the errors is correctly specified.\n"
     ]
    }
   ],
   "source": [
    "est = sm.OLS(y, X_)\n",
    "est2 = est.fit()\n",
    "weights = np.array([(ci[0]+ci[1])/2 for ci in est2.conf_int()])\n",
    "print(est2.summary())"
   ]
  },
  {
   "cell_type": "markdown",
   "metadata": {},
   "source": [
    "First of all, let's try to get a distribution our coefficients, we are going to do this throught boostrapping. The idea is pretty simple, let's take random re-samples of our original point samples with replacement (aka boostrapping). The size of these resamples will be the same as the original one. For each of resamples, let's use our method to compute the regressions coefficients. At the end we will have samples of the distribution of the coefficients obtained from different samplings of the data distribution."
   ]
  },
  {
   "cell_type": "code",
   "execution_count": 29,
   "metadata": {},
   "outputs": [],
   "source": [
    "from joblib import Parallel, delayed\n",
    "import multiprocessing\n",
    "    \n",
    "def get_regression_coeff_in_boostrap():\n",
    "    def mse(w):\n",
    "        return (1/(2*X_boot.shape[0]))*np.sum((np.dot(X_boot,w) -y_boot)**2)\n",
    "\n",
    "    def gradient(w):\n",
    "\n",
    "        gradient = (1/(X_boot.shape[0]))*np.dot((np.dot(X_boot,w) - y_boot),X_boot)\n",
    "        return gradient\n",
    "    \n",
    "    boot_indx = np.random.choice([i for i in range(len(X))],size = len(X),replace = True)\n",
    "    X_boot = X[boot_indx]\n",
    "    y_boot = y[boot_indx]\n",
    "    X_boot = bias_and_standarize(X_boot)\n",
    "\n",
    "    weights = [0 for i in range(X_boot.shape[1])]\n",
    "    x_iters = gradient_descent_(gamma = 0.001,function = mse,d_function = gradient,x_0 = weights,max_steps = 300000)\n",
    "    return x_iters[-1]\n",
    "    \n",
    "results = Parallel(n_jobs=12)([delayed(get_regression_coeff_in_boostrap)() for i in range(5000)])"
   ]
  },
  {
   "cell_type": "markdown",
   "metadata": {},
   "source": [
    "It can be proved (assuming that the errors are gaussians) that the distributions of the parameters will end up being gaussians whose mean and scale can be derived analytically. Of course our bootstrapping method is much more slower than just using the analytic formulas of the Gaussian parameters. The nice thing is that it is just based on simulations and no statistical knowledge about the parameters is required.\n",
    "Let's see some of these distributions:"
   ]
  },
  {
   "cell_type": "code",
   "execution_count": 42,
   "metadata": {},
   "outputs": [
    {
     "data": {
      "image/png": "[encoded data removed]",
      "text/plain": [
       "<Figure size 648x504 with 16 Axes>"
      ]
     },
     "metadata": {
      "needs_background": "light"
     },
     "output_type": "display_data"
    }
   ],
   "source": [
    "fig, axs = plt.subplots(4,4)\n",
    "for i in range(len(results[0])):    \n",
    "    theor_se = est2.bse[i]\n",
    "    theor_param = est2.params[i]\n",
    "    #theor_normal = np.random.normal(theor_param,theor_se,10000)\n",
    "    theor_t = [stats.t.rvs(df = 90, loc = theor_param,scale = theor_se) for i in range(5000)]\n",
    "    axs[i//4][i%4].hist([x[i] for x in results],color = \"red\",alpha = 0.5)\n",
    "    axs[i//4][i%4].hist(theor_t,color = \"blue\",alpha = 0.5)\n",
    "    \n",
    "fig.set_size_inches(9, 7)"
   ]
  },
  {
   "cell_type": "markdown",
   "metadata": {},
   "source": [
    "In red color, we have the distributions obtained by the boostrapping method above. In blue color, the distributions obtained by using the `coef` and `std error` coming from the `statslibrary`, which are computed analytically. We can see that most of them match quite closely while in some others the variance of the blue one tends to be smaller than the variance of the red one. This is because the analytical method assumes that the errors for each observation are uncorrelated, and this might not be true in this particular exmple and therefore the variance is underestimated."
   ]
  },
  {
   "cell_type": "markdown",
   "metadata": {},
   "source": [
    "We can now compute the `std error` of our boostrapping distributions:"
   ]
  },
  {
   "cell_type": "code",
   "execution_count": 54,
   "metadata": {},
   "outputs": [
    {
     "data": {
      "text/plain": [
       "array([0.33430917, 0.33224126, 0.34314531, 0.33243196, 0.44433694,\n",
       "       0.58746686, 0.45863855, 0.43716667, 0.54705463, 0.44626178,\n",
       "       0.26196845, 0.26290089, 0.69429505, 0.41846168])"
      ]
     },
     "execution_count": 54,
     "metadata": {},
     "output_type": "execute_result"
    }
   ],
   "source": [
    "np.std(np.array(results),axis = 0)"
   ]
  },
  {
   "cell_type": "markdown",
   "metadata": {},
   "source": [
    "And the 0.025 and 0.975 percentiles:     "
   ]
  },
  {
   "cell_type": "code",
   "execution_count": 56,
   "metadata": {},
   "outputs": [
    {
     "data": {
      "text/plain": [
       "array([-1.4399098 ,  0.39033562, -0.65175949,  0.05939353, -2.85386326,\n",
       "        1.6304945 , -0.9158072 , -3.92338232,  1.24947231, -2.60384129,\n",
       "       -2.56087172,  0.33947574, -5.05312244, 21.71224308])"
      ]
     },
     "execution_count": 56,
     "metadata": {},
     "output_type": "execute_result"
    }
   ],
   "source": [
    "np.quantile(np.array(results),0.025, axis = 0)"
   ]
  },
  {
   "cell_type": "code",
   "execution_count": 57,
   "metadata": {},
   "outputs": [
    {
     "data": {
      "text/plain": [
       "array([-0.12081625,  1.69788339,  0.69554606,  1.36742022, -1.10543431,\n",
       "        3.95698172,  0.8899595 , -2.22774023,  3.38980076, -0.85832583,\n",
       "       -1.52766941,  1.37917929, -2.33900951, 23.35421937])"
      ]
     },
     "execution_count": 57,
     "metadata": {},
     "output_type": "execute_result"
    }
   ],
   "source": [
    "np.quantile(np.array(results),0.975, axis = 0)"
   ]
  },
  {
   "cell_type": "markdown",
   "metadata": {},
   "source": [
    "Finally, we can make an hypothesis test to see if a coefficient is 0 or not:"
   ]
  },
  {
   "cell_type": "code",
   "execution_count": 60,
   "metadata": {},
   "outputs": [],
   "source": [
    "results = np.array(results)"
   ]
  },
  {
   "cell_type": "code",
   "execution_count": 101,
   "metadata": {},
   "outputs": [],
   "source": [
    "def p_value(dist):\n",
    "    if np.sum(dist<0) < np.sum(dist>0):\n",
    "        tail =np.sum(dist<0)\n",
    "    else:\n",
    "        tail = np.sum(dist>0)\n",
    "    return (tail*2)/len(dist)"
   ]
  },
  {
   "cell_type": "code",
   "execution_count": 116,
   "metadata": {},
   "outputs": [
    {
     "data": {
      "text/plain": [
       "0.952"
      ]
     },
     "execution_count": 116,
     "metadata": {},
     "output_type": "execute_result"
    }
   ],
   "source": [
    "p_value(results[:,2])"
   ]
  },
  {
   "cell_type": "markdown",
   "metadata": {},
   "source": [
    "Rse (residual square error) or the standard deviation of the residuals:"
   ]
  },
  {
   "cell_type": "code",
   "execution_count": 234,
   "metadata": {},
   "outputs": [],
   "source": [
    "residuals = y - np.dot(X_,weights)"
   ]
  },
  {
   "cell_type": "code",
   "execution_count": 243,
   "metadata": {},
   "outputs": [
    {
     "data": {
      "text/plain": [
       "4.679191295697282"
      ]
     },
     "execution_count": 243,
     "metadata": {},
     "output_type": "execute_result"
    }
   ],
   "source": [
    "math.sqrt(np.dot(residuals,residuals.T)/(len(residuals)))"
   ]
  },
  {
   "cell_type": "code",
   "execution_count": 239,
   "metadata": {},
   "outputs": [
    {
     "data": {
      "text/plain": [
       "4.679191295697281"
      ]
     },
     "execution_count": 239,
     "metadata": {},
     "output_type": "execute_result"
    }
   ],
   "source": [
    "np.std(residuals)"
   ]
  },
  {
   "cell_type": "code",
   "execution_count": 212,
   "metadata": {},
   "outputs": [
    {
     "data": {
      "text/plain": [
       "22.517854833241827"
      ]
     },
     "execution_count": 212,
     "metadata": {},
     "output_type": "execute_result"
    }
   ],
   "source": [
    "var_ = np.dot(residuals,residuals.T) / (len(residuals)-14)\n",
    "var_"
   ]
  },
  {
   "cell_type": "code",
   "execution_count": 226,
   "metadata": {},
   "outputs": [],
   "source": [
    "var_ = np.var(residuals) / len(residuals)"
   ]
  },
  {
   "cell_type": "code",
   "execution_count": 233,
   "metadata": {},
   "outputs": [
    {
     "data": {
      "text/plain": [
       "22.517854833241824"
      ]
     },
     "execution_count": 233,
     "metadata": {},
     "output_type": "execute_result"
    }
   ],
   "source": [
    "var_ = np.var(residuals) * (len(residuals)) / (len(residuals)-14)\n",
    "var_"
   ]
  },
  {
   "cell_type": "code",
   "execution_count": 232,
   "metadata": {},
   "outputs": [
    {
     "data": {
      "text/plain": [
       "array([0.27847599, 0.31538584, 0.4155936 , 0.21557418, 0.43602533,\n",
       "       0.28926446, 0.36629771, 0.41373347, 0.5690846 , 0.62434277,\n",
       "       0.27901096, 0.24155966, 0.35676259, 0.20801543])"
      ]
     },
     "execution_count": 232,
     "metadata": {},
     "output_type": "execute_result"
    }
   ],
   "source": [
    "np.sqrt(np.diagonal((var_)*np.linalg.inv(np.dot(X_.T,X_))))"
   ]
  },
  {
   "cell_type": "markdown",
   "metadata": {},
   "source": [
    "R-squared"
   ]
  },
  {
   "cell_type": "code",
   "execution_count": null,
   "metadata": {},
   "outputs": [],
   "source": [
    "R = 1 - (np.dot(residuals,residuals.T)) / (np.dot(y - np.mean(y)))"
   ]
  },
  {
   "cell_type": "code",
   "execution_count": 251,
   "metadata": {},
   "outputs": [
    {
     "data": {
      "text/plain": [
       "0.7406426641094094"
      ]
     },
     "execution_count": 251,
     "metadata": {},
     "output_type": "execute_result"
    }
   ],
   "source": [
    "1 - np.sum(residuals**2) / np.sum((y - np.mean(y))**2)"
   ]
  },
  {
   "cell_type": "code",
   "execution_count": 297,
   "metadata": {},
   "outputs": [
    {
     "data": {
      "text/plain": [
       "array([[1.        , 0.74064266],\n",
       "       [0.74064266, 1.        ]])"
      ]
     },
     "execution_count": 297,
     "metadata": {},
     "output_type": "execute_result"
    }
   ],
   "source": [
    "np.corrcoef(y,np.dot(X_,weights))**2"
   ]
  },
  {
   "cell_type": "markdown",
   "metadata": {},
   "source": [
    "### Synthetic distributions"
   ]
  },
  {
   "cell_type": "code",
   "execution_count": 2,
   "metadata": {},
   "outputs": [],
   "source": [
    "def bias_and_standarize(X):\n",
    "    X = (X- np.mean(X,axis = 0)) / np.std(X,axis = 0)\n",
    "    X_ = np.hstack((X,np.ones((X.shape[0],1))))\n",
    "    return X_"
   ]
  },
  {
   "cell_type": "code",
   "execution_count": 256,
   "metadata": {},
   "outputs": [],
   "source": [
    "X = np.concatenate([x_0.reshape(n,1),x_1.reshape(n,1)],axis = 1)\n",
    "X_ = bias_and_standarize(X)"
   ]
  },
  {
   "cell_type": "code",
   "execution_count": 258,
   "metadata": {},
   "outputs": [
    {
     "data": {
      "text/plain": [
       "array([[ 1.        ,  0.94298413, -0.08744189, ...,  0.93136045,\n",
       "         0.98472854,  0.95308051],\n",
       "       [ 0.94298413,  1.        , -0.41401911, ...,  0.99944383,\n",
       "         0.98652937,  0.9994954 ],\n",
       "       [-0.08744189, -0.41401911,  1.        , ..., -0.44414376,\n",
       "        -0.25953647, -0.38489656],\n",
       "       ...,\n",
       "       [ 0.93136045,  0.99944383, -0.44414376, ...,  1.        ,\n",
       "         0.98052561,  0.99788027],\n",
       "       [ 0.98472854,  0.98652937, -0.25953647, ...,  0.98052561,\n",
       "         1.        ,  0.99122763],\n",
       "       [ 0.95308051,  0.9994954 , -0.38489656, ...,  0.99788027,\n",
       "         0.99122763,  1.        ]])"
      ]
     },
     "execution_count": 258,
     "metadata": {},
     "output_type": "execute_result"
    }
   ],
   "source": [
    "np.corrcoef(X_)"
   ]
  },
  {
   "cell_type": "code",
   "execution_count": 358,
   "metadata": {
    "scrolled": true
   },
   "outputs": [
    {
     "data": {
      "text/plain": [
       "array([[ 1.00250627, -0.02778125,  0.        ],\n",
       "       [-0.02778125,  1.00250627,  0.        ],\n",
       "       [ 0.        ,  0.        ,  0.        ]])"
      ]
     },
     "execution_count": 358,
     "metadata": {},
     "output_type": "execute_result"
    }
   ],
   "source": [
    "np.cov(X_.T)"
   ]
  },
  {
   "cell_type": "code",
   "execution_count": 353,
   "metadata": {},
   "outputs": [
    {
     "data": {
      "text/plain": [
       "array([[ 2.50192133e-03,  6.93327325e-05, -1.71361082e-18],\n",
       "       [ 6.93327325e-05,  2.50192133e-03,  6.07595123e-20],\n",
       "       [-1.71361082e-18,  6.07595123e-20,  2.50000000e-03]])"
      ]
     },
     "execution_count": 353,
     "metadata": {},
     "output_type": "execute_result"
    }
   ],
   "source": [
    "np.linalg.inv(np.dot(X_.T,X_))"
   ]
  },
  {
   "cell_type": "code",
   "execution_count": 73,
   "metadata": {},
   "outputs": [],
   "source": [
    "n = 1000\n",
    "\n",
    "x_0 = np.random.uniform(0,20,n)\n",
    "x_1 = x_0 + np.random.normal(0,10,n)\n",
    "\n",
    "y = 0*x_0 -0*(x_1) +5+ np.random.normal(0,10,n)\n",
    "\n",
    "X = np.concatenate([x_0.reshape(n,1),x_1.reshape(n,1)],axis = 1)\n",
    "X_ = bias_and_standarize(X)"
   ]
  },
  {
   "cell_type": "code",
   "execution_count": 284,
   "metadata": {},
   "outputs": [
    {
     "data": {
      "text/plain": [
       "1.0"
      ]
     },
     "execution_count": 284,
     "metadata": {},
     "output_type": "execute_result"
    }
   ],
   "source": [
    "np.corrcoef(X.T)"
   ]
  },
  {
   "cell_type": "code",
   "execution_count": 74,
   "metadata": {},
   "outputs": [
    {
     "name": "stdout",
     "output_type": "stream",
     "text": [
      "                            OLS Regression Results                            \n",
      "==============================================================================\n",
      "Dep. Variable:                      y   R-squared:                       0.004\n",
      "Model:                            OLS   Adj. R-squared:                  0.002\n",
      "Method:                 Least Squares   F-statistic:                     2.104\n",
      "Date:                Fri, 09 Oct 2020   Prob (F-statistic):              0.122\n",
      "Time:                        18:47:17   Log-Likelihood:                -3736.7\n",
      "No. Observations:                1000   AIC:                             7479.\n",
      "Df Residuals:                     997   BIC:                             7494.\n",
      "Df Model:                           2                                         \n",
      "Covariance Type:            nonrobust                                         \n",
      "==============================================================================\n",
      "                 coef    std err          t      P>|t|      [0.025      0.975]\n",
      "------------------------------------------------------------------------------\n",
      "x1             0.4552      0.380      1.199      0.231      -0.290       1.200\n",
      "x2             0.2933      0.380      0.773      0.440      -0.452       1.038\n",
      "const          5.3207      0.322     16.547      0.000       4.690       5.952\n",
      "==============================================================================\n",
      "Omnibus:                        0.199   Durbin-Watson:                   2.048\n",
      "Prob(Omnibus):                  0.905   Jarque-Bera (JB):                0.180\n",
      "Skew:                           0.033   Prob(JB):                        0.914\n",
      "Kurtosis:                       3.003   Cond. No.                         1.81\n",
      "==============================================================================\n",
      "\n",
      "Notes:\n",
      "[1] Standard Errors assume that the covariance matrix of the errors is correctly specified.\n"
     ]
    }
   ],
   "source": [
    "est = sm.OLS(y, X_)\n",
    "est2 = est.fit()\n",
    "weights = np.array([(ci[0]+ci[1])/2 for ci in est2.conf_int()])\n",
    "print(est2.summary())"
   ]
  },
  {
   "cell_type": "code",
   "execution_count": 75,
   "metadata": {},
   "outputs": [
    {
     "data": {
      "text/plain": [
       "145.0466589296751"
      ]
     },
     "execution_count": 75,
     "metadata": {},
     "output_type": "execute_result"
    }
   ],
   "source": [
    "residuals = (y - np.dot(X_,weights))    \n",
    "RSS = np.dot(residuals,residuals.T)\n",
    "diff_y_mean = (y - np.mean(y))\n",
    "RSE = np.dot(diff_y_mean,diff_y_mean.T)\n",
    "\n",
    "(RSE - RSS)/3"
   ]
  },
  {
   "cell_type": "code",
   "execution_count": 65,
   "metadata": {},
   "outputs": [
    {
     "data": {
      "text/plain": [
       "227.36959981400773"
      ]
     },
     "execution_count": 65,
     "metadata": {},
     "output_type": "execute_result"
    }
   ],
   "source": []
  },
  {
   "cell_type": "code",
   "execution_count": 59,
   "metadata": {},
   "outputs": [
    {
     "data": {
      "text/plain": [
       "1225"
      ]
     },
     "execution_count": 59,
     "metadata": {},
     "output_type": "execute_result"
    }
   ],
   "source": [
    "35**2"
   ]
  },
  {
   "cell_type": "code",
   "execution_count": 263,
   "metadata": {},
   "outputs": [
    {
     "name": "stderr",
     "output_type": "stream",
     "text": [
      "100%|██████████| 10000/10000 [00:00<00:00, 512437.87it/s]\n"
     ]
    }
   ],
   "source": [
    "from joblib import Parallel, delayed\n",
    "import multiprocessing\n",
    "from tqdm import tqdm\n",
    "    \n",
    "def get_regression_coeff_in_boostrap():\n",
    "    def mse(w):\n",
    "        return (1/(2*X_boot.shape[0]))*np.sum((np.dot(X_boot,w) -y_boot)**2)\n",
    "\n",
    "    def gradient(w):\n",
    "\n",
    "        gradient = (1/(X_boot.shape[0]))*np.dot((np.dot(X_boot,w) - y_boot),X_boot)\n",
    "        return gradient\n",
    "    \n",
    "    boot_indx = np.random.choice([i for i in range(len(X))],size = len(X),replace = True)\n",
    "    X_boot = X[boot_indx]\n",
    "    y_boot = y[boot_indx]\n",
    "    X_boot = np.hstack((X_boot,np.ones((X_boot.shape[0],1))))\n",
    "\n",
    "    #X_boot = bias_and_standarize(X_boot)\n",
    "\n",
    "    weights = [0 for i in range(X_boot.shape[1])]\n",
    "    x_iters = gradient_descent_(gamma = 0.001,function = mse,d_function = gradient,x_0 = weights,max_steps = 300000)\n",
    "    return x_iters[-1]\n",
    "    \n",
    "results = Parallel(n_jobs=12)([delayed(get_regression_coeff_in_boostrap)() for i in tqdm(range(10000))])"
   ]
  },
  {
   "cell_type": "code",
   "execution_count": 266,
   "metadata": {},
   "outputs": [
    {
     "data": {
      "text/plain": [
       "0.03881338454331114"
      ]
     },
     "execution_count": 266,
     "metadata": {},
     "output_type": "execute_result"
    }
   ],
   "source": [
    "np.std([x[1] for x in results])"
   ]
  },
  {
   "cell_type": "code",
   "execution_count": 270,
   "metadata": {},
   "outputs": [
    {
     "data": {
      "text/plain": [
       "-0.2686789344467698"
      ]
     },
     "execution_count": 270,
     "metadata": {},
     "output_type": "execute_result"
    }
   ],
   "source": [
    "np.quantile([x[2] for x in results],0.025)"
   ]
  },
  {
   "cell_type": "code",
   "execution_count": 267,
   "metadata": {},
   "outputs": [
    {
     "name": "stdout",
     "output_type": "stream",
     "text": [
      "5.004350225331737\n",
      "-6.984600912691494\n",
      "0.07747987395399315\n"
     ]
    },
    {
     "data": {
      "image/png": "[encoded data removed]",
      "text/plain": [
       "<Figure size 648x504 with 16 Axes>"
      ]
     },
     "metadata": {
      "needs_background": "light"
     },
     "output_type": "display_data"
    }
   ],
   "source": [
    "fig, axs = plt.subplots(4,4)\n",
    "for i in range(len(results[0])):    \n",
    "    theor_se = est2.bse[i]\n",
    "    theor_param = est2.params[i]\n",
    "    #theor_normal = np.random.normal(theor_param,theor_se,10000)\n",
    "    theor_t = [stats.t.rvs(df = 90, loc = theor_param,scale = theor_se) for i in range(10000)]\n",
    "    axs[i//4][i%4].hist([x[i] for x in results],color = \"red\",alpha = 0.5)\n",
    "    axs[i//4][i%4].hist(theor_t,color = \"blue\",alpha = 0.5)\n",
    "    print(np.mean([x[i] for x in results]))\n",
    "\n",
    "    \n",
    "fig.set_size_inches(9, 7)"
   ]
  },
  {
   "cell_type": "markdown",
   "metadata": {},
   "source": [
    "### Regularization"
   ]
  },
  {
   "cell_type": "markdown",
   "metadata": {},
   "source": [
    "#### L2 regularization"
   ]
  },
  {
   "cell_type": "code",
   "execution_count": 32,
   "metadata": {},
   "outputs": [],
   "source": [
    "lambda_ = 0\n",
    "def mse(w):\n",
    "    return (1/(2*X_.shape[0]))*np.sum((np.dot(X_,w) -y)**2) + lambda_*np.dot(w,w)\n",
    "\n",
    "def gradient(w):\n",
    "    gradient = (1/(X_.shape[0]))*np.dot((np.dot(X_,w) - y),X_) \n",
    "    if lambda_!=0:\n",
    "        gradient += lambda_*w\n",
    "    return gradient"
   ]
  },
  {
   "cell_type": "code",
   "execution_count": 30,
   "metadata": {},
   "outputs": [],
   "source": [
    "X = boston_dataset[\"data\"]\n",
    "y = boston_dataset[\"target\"]\n",
    "X_ = bias_and_standarize(X)"
   ]
  },
  {
   "cell_type": "markdown",
   "metadata": {},
   "source": [
    "from gradient_descent.gradient_descent_impl import gradient_descent_\n",
    "\n",
    "\n",
    "w_0 = [0 for i in range(X_.shape[1])]\n",
    "x_iters = gradient_descent_(gamma = 0.001,function = mse,d_function = gradient,x_0 = w_0,max_steps = 300000)"
   ]
  },
  {
   "cell_type": "code",
   "execution_count": 10,
   "metadata": {},
   "outputs": [
    {
     "data": {
      "text/plain": [
       "[0,\n",
       " 0,\n",
       " 0,\n",
       " 0,\n",
       " 0,\n",
       " 0,\n",
       " 0,\n",
       " 0,\n",
       " 0,\n",
       " 0,\n",
       " 0,\n",
       " 0,\n",
       " 0,\n",
       " 0,\n",
       " 0,\n",
       " 0,\n",
       " 0,\n",
       " 0,\n",
       " 0,\n",
       " 0,\n",
       " 0,\n",
       " 0,\n",
       " 0,\n",
       " 0,\n",
       " 0,\n",
       " 0,\n",
       " 0,\n",
       " 0,\n",
       " 0,\n",
       " 0,\n",
       " 0,\n",
       " 0,\n",
       " 0,\n",
       " 0,\n",
       " 0,\n",
       " 0,\n",
       " 0,\n",
       " 0,\n",
       " 0,\n",
       " 0,\n",
       " 0,\n",
       " 0,\n",
       " 0,\n",
       " 0,\n",
       " 0,\n",
       " 0,\n",
       " 0,\n",
       " 0,\n",
       " 0,\n",
       " 0,\n",
       " 0,\n",
       " 0,\n",
       " 0,\n",
       " 0,\n",
       " 0,\n",
       " 0,\n",
       " 0,\n",
       " 0,\n",
       " 0,\n",
       " 0,\n",
       " 0,\n",
       " 0,\n",
       " 0,\n",
       " 0,\n",
       " 0,\n",
       " 0,\n",
       " 0,\n",
       " 0,\n",
       " 0,\n",
       " 0,\n",
       " 0,\n",
       " 0,\n",
       " 0,\n",
       " 0,\n",
       " 0,\n",
       " 0,\n",
       " 0,\n",
       " 0,\n",
       " 0,\n",
       " 0,\n",
       " 0,\n",
       " 0,\n",
       " 0,\n",
       " 0,\n",
       " 0,\n",
       " 0,\n",
       " 0,\n",
       " 0,\n",
       " 0,\n",
       " 0,\n",
       " 0,\n",
       " 0,\n",
       " 0,\n",
       " 0,\n",
       " 0,\n",
       " 0,\n",
       " 0,\n",
       " 0,\n",
       " 0,\n",
       " 0,\n",
       " 0,\n",
       " 0,\n",
       " 0,\n",
       " 0,\n",
       " 0,\n",
       " 0,\n",
       " 0,\n",
       " 0,\n",
       " 0,\n",
       " 0,\n",
       " 0,\n",
       " 0,\n",
       " 0,\n",
       " 0,\n",
       " 0,\n",
       " 0,\n",
       " 0,\n",
       " 0,\n",
       " 0,\n",
       " 0,\n",
       " 0,\n",
       " 0,\n",
       " 0,\n",
       " 0,\n",
       " 0,\n",
       " 0,\n",
       " 0,\n",
       " 0,\n",
       " 0,\n",
       " 0,\n",
       " 0,\n",
       " 0,\n",
       " 0,\n",
       " 0,\n",
       " 0,\n",
       " 0,\n",
       " 0,\n",
       " 0,\n",
       " 0,\n",
       " 0,\n",
       " 0,\n",
       " 0,\n",
       " 0,\n",
       " 0,\n",
       " 0,\n",
       " 0,\n",
       " 0,\n",
       " 0,\n",
       " 0,\n",
       " 0,\n",
       " 0,\n",
       " 0,\n",
       " 0,\n",
       " 0,\n",
       " 0,\n",
       " 0,\n",
       " 0,\n",
       " 0,\n",
       " 0,\n",
       " 0,\n",
       " 0,\n",
       " 0,\n",
       " 0,\n",
       " 0,\n",
       " 0,\n",
       " 0,\n",
       " 0,\n",
       " 0,\n",
       " 0,\n",
       " 0,\n",
       " 0,\n",
       " 0,\n",
       " 0,\n",
       " 0,\n",
       " 0,\n",
       " 0,\n",
       " 0,\n",
       " 0,\n",
       " 0,\n",
       " 0,\n",
       " 0,\n",
       " 0,\n",
       " 0,\n",
       " 0,\n",
       " 0,\n",
       " 0,\n",
       " 0,\n",
       " 0,\n",
       " 0,\n",
       " 0,\n",
       " 0,\n",
       " 0,\n",
       " 0,\n",
       " 0,\n",
       " 0,\n",
       " 0,\n",
       " 0,\n",
       " 0,\n",
       " 0,\n",
       " 0,\n",
       " 0,\n",
       " 0,\n",
       " 0,\n",
       " 0,\n",
       " 0,\n",
       " 0,\n",
       " 0,\n",
       " 0,\n",
       " 0,\n",
       " 0,\n",
       " 0,\n",
       " 0,\n",
       " 0,\n",
       " 0,\n",
       " 0,\n",
       " 0,\n",
       " 0,\n",
       " 0,\n",
       " 0,\n",
       " 0,\n",
       " 0,\n",
       " 0,\n",
       " 0,\n",
       " 0,\n",
       " 0,\n",
       " 0,\n",
       " 0,\n",
       " 0,\n",
       " 0,\n",
       " 0,\n",
       " 0,\n",
       " 0,\n",
       " 0,\n",
       " 0,\n",
       " 0,\n",
       " 0,\n",
       " 0,\n",
       " 0,\n",
       " 0,\n",
       " 0,\n",
       " 0,\n",
       " 0,\n",
       " 0,\n",
       " 0,\n",
       " 0,\n",
       " 0,\n",
       " 0,\n",
       " 0,\n",
       " 0,\n",
       " 0,\n",
       " 0,\n",
       " 0,\n",
       " 0,\n",
       " 0,\n",
       " 0,\n",
       " 0,\n",
       " 0,\n",
       " 0,\n",
       " 0,\n",
       " 0,\n",
       " 0,\n",
       " 0,\n",
       " 0,\n",
       " 0,\n",
       " 0,\n",
       " 0,\n",
       " 0,\n",
       " 0,\n",
       " 0,\n",
       " 0,\n",
       " 0,\n",
       " 0,\n",
       " 0,\n",
       " 0,\n",
       " 0,\n",
       " 0,\n",
       " 0,\n",
       " 0,\n",
       " 0,\n",
       " 0,\n",
       " 0,\n",
       " 0,\n",
       " 0,\n",
       " 0,\n",
       " 0,\n",
       " 0,\n",
       " 0,\n",
       " 0,\n",
       " 0,\n",
       " 0,\n",
       " 0,\n",
       " 0,\n",
       " 0,\n",
       " 0,\n",
       " 0,\n",
       " 0,\n",
       " 0,\n",
       " 0,\n",
       " 0,\n",
       " 0,\n",
       " 0,\n",
       " 0,\n",
       " 0,\n",
       " 0,\n",
       " 0,\n",
       " 0,\n",
       " 0,\n",
       " 0,\n",
       " 0,\n",
       " 0,\n",
       " 0,\n",
       " 0,\n",
       " 0,\n",
       " 0,\n",
       " 0,\n",
       " 0,\n",
       " 0,\n",
       " 0,\n",
       " 0,\n",
       " 0,\n",
       " 0,\n",
       " 0,\n",
       " 0,\n",
       " 0,\n",
       " 0,\n",
       " 0,\n",
       " 0,\n",
       " 0,\n",
       " 0,\n",
       " 0,\n",
       " 0,\n",
       " 0,\n",
       " 0,\n",
       " 0,\n",
       " 0,\n",
       " 0,\n",
       " 0,\n",
       " 0,\n",
       " 0,\n",
       " 0,\n",
       " 0,\n",
       " 0,\n",
       " 0,\n",
       " 0,\n",
       " 0,\n",
       " 0,\n",
       " 0,\n",
       " 0,\n",
       " 0,\n",
       " 0,\n",
       " 0,\n",
       " 0,\n",
       " 0,\n",
       " 0,\n",
       " 0,\n",
       " 0,\n",
       " 0,\n",
       " 0,\n",
       " 0,\n",
       " 0,\n",
       " 0,\n",
       " 0,\n",
       " 0,\n",
       " 0,\n",
       " 0,\n",
       " 0,\n",
       " 0,\n",
       " 0,\n",
       " 0,\n",
       " 0,\n",
       " 0,\n",
       " 0,\n",
       " 0,\n",
       " 0,\n",
       " 0,\n",
       " 0,\n",
       " 0,\n",
       " 0,\n",
       " 0,\n",
       " 0,\n",
       " 0,\n",
       " 0,\n",
       " 0,\n",
       " 0,\n",
       " 0,\n",
       " 0,\n",
       " 0,\n",
       " 0,\n",
       " 0,\n",
       " 0,\n",
       " 0,\n",
       " 0,\n",
       " 0,\n",
       " 0,\n",
       " 0,\n",
       " 0,\n",
       " 0,\n",
       " 0,\n",
       " 0,\n",
       " 0,\n",
       " 0,\n",
       " 0,\n",
       " 0,\n",
       " 0,\n",
       " 0,\n",
       " 0,\n",
       " 0,\n",
       " 0,\n",
       " 0,\n",
       " 0,\n",
       " 0,\n",
       " 0,\n",
       " 0,\n",
       " 0,\n",
       " 0,\n",
       " 0,\n",
       " 0,\n",
       " 0,\n",
       " 0,\n",
       " 0,\n",
       " 0,\n",
       " 0,\n",
       " 0,\n",
       " 0,\n",
       " 0,\n",
       " 0,\n",
       " 0,\n",
       " 0,\n",
       " 0,\n",
       " 0,\n",
       " 0,\n",
       " 0,\n",
       " 0,\n",
       " 0,\n",
       " 0,\n",
       " 0,\n",
       " 0,\n",
       " 0,\n",
       " 0,\n",
       " 0,\n",
       " 0,\n",
       " 0,\n",
       " 0,\n",
       " 0,\n",
       " 0,\n",
       " 0,\n",
       " 0,\n",
       " 0,\n",
       " 0,\n",
       " 0,\n",
       " 0,\n",
       " 0,\n",
       " 0,\n",
       " 0,\n",
       " 0,\n",
       " 0,\n",
       " 0,\n",
       " 0,\n",
       " 0,\n",
       " 0,\n",
       " 0,\n",
       " 0,\n",
       " 0,\n",
       " 0,\n",
       " 0,\n",
       " 0,\n",
       " 0,\n",
       " 0,\n",
       " 0,\n",
       " 0,\n",
       " 0,\n",
       " 0,\n",
       " 0,\n",
       " 0,\n",
       " 0,\n",
       " 0,\n",
       " 0,\n",
       " 0,\n",
       " 0,\n",
       " 0,\n",
       " 0,\n",
       " 0,\n",
       " 0,\n",
       " 0,\n",
       " 0,\n",
       " 0,\n",
       " 0,\n",
       " 0,\n",
       " 0,\n",
       " 0,\n",
       " 0,\n",
       " 0,\n",
       " 0,\n",
       " 0,\n",
       " 0,\n",
       " 0,\n",
       " 0,\n",
       " 0,\n",
       " 0,\n",
       " 0,\n",
       " 0,\n",
       " 0,\n",
       " 0,\n",
       " 0,\n",
       " 0,\n",
       " 0]"
      ]
     },
     "execution_count": 10,
     "metadata": {},
     "output_type": "execute_result"
    }
   ],
   "source": [
    "w_0"
   ]
  }
 ],
 "metadata": {
  "kernelspec": {
   "display_name": "Python 3",
   "language": "python",
   "name": "python3"
  },
  "language_info": {
   "codemirror_mode": {
    "name": "ipython",
    "version": 3
   },
   "file_extension": ".py",
   "mimetype": "text/x-python",
   "name": "python",
   "nbconvert_exporter": "python",
   "pygments_lexer": "ipython3",
   "version": "3.8.5"
  }
 },
 "nbformat": 4,
 "nbformat_minor": 2
}
