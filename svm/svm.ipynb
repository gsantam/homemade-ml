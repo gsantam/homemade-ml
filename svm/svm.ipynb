{
 "cells": [
  {
   "cell_type": "markdown",
   "metadata": {},
   "source": [
    "## SVM"
   ]
  },
  {
   "cell_type": "code",
   "execution_count": 1,
   "metadata": {},
   "outputs": [],
   "source": [
    "import numpy as np\n",
    "import matplotlib.pyplot as plt"
   ]
  },
  {
   "cell_type": "markdown",
   "metadata": {},
   "source": [
    "Example in two dimensions:"
   ]
  },
  {
   "cell_type": "code",
   "execution_count": 2,
   "metadata": {},
   "outputs": [
    {
     "data": {
      "image/png": "[encoded data removed]",
      "text/plain": [
       "<Figure size 432x288 with 1 Axes>"
      ]
     },
     "metadata": {
      "needs_background": "light"
     },
     "output_type": "display_data"
    }
   ],
   "source": [
    "x_1 = np.random.uniform(-2,2,100)\n",
    "x_2_a = 6*x_1 + np.random.normal(0,1,100)\n",
    "x_2_b = 3*x_1 + np.random.normal(0,1,100) + 20\n",
    "\n",
    "plt.scatter(x_1,x_2_a,color = \"blue\")\n",
    "plt.scatter(x_1,x_2_b,color = \"red\")\n",
    "\n",
    "y = np.concatenate([np.ones(len(x_1)),-1*np.ones(len(x_1))])"
   ]
  },
  {
   "cell_type": "code",
   "execution_count": 3,
   "metadata": {},
   "outputs": [],
   "source": [
    "X = np.vstack([np.concatenate([x_1,x_1]),np.concatenate([x_2_a,x_2_b])]).T\n",
    "X_ = np.hstack((X,np.ones((X.shape[0],1))))"
   ]
  },
  {
   "cell_type": "code",
   "execution_count": 4,
   "metadata": {},
   "outputs": [],
   "source": [
    "w_0 = np.array([0 for i in range(X_.shape[1])])\n",
    "#w_0 = np.random.normal(0,1,X_.shape[1])"
   ]
  },
  {
   "cell_type": "code",
   "execution_count": 16,
   "metadata": {},
   "outputs": [
    {
     "data": {
      "text/plain": [
       "0.005"
      ]
     },
     "execution_count": 16,
     "metadata": {},
     "output_type": "execute_result"
    }
   ],
   "source": [
    "1/len(X_)"
   ]
  },
  {
   "cell_type": "code",
   "execution_count": 26,
   "metadata": {},
   "outputs": [],
   "source": [
    "def svm_function(w):\n",
    "    return (1/2)*(np.dot(w.T,w)) + 0.008*np.sum(np.maximum(np.zeros(X_.shape[0]),(1-y*np.dot(X_,w))))\n",
    "\n",
    "def gradient(w):\n",
    "    return w + 0.008*np.dot(np.where((1-y*np.dot(X_,w)<=0),0,-y),X_)\n",
    "\n"
   ]
  },
  {
   "cell_type": "code",
   "execution_count": 27,
   "metadata": {},
   "outputs": [
    {
     "name": "stdout",
     "output_type": "stream",
     "text": [
      "The algorithm converged in 2144 iters\n"
     ]
    }
   ],
   "source": [
    "from gradient_descent_impl import gradient_descent_\n",
    "\n",
    "\n",
    "\n",
    "x_iters = gradient_descent_(gamma = 0.01,function = svm_function,d_function = gradient,x_0 = w_0,max_steps = 300000)"
   ]
  },
  {
   "cell_type": "code",
   "execution_count": 7,
   "metadata": {},
   "outputs": [
    {
     "data": {
      "text/plain": [
       "2.1743042241624755"
      ]
     },
     "execution_count": 7,
     "metadata": {},
     "output_type": "execute_result"
    }
   ],
   "source": [
    "svm_function( x_iters[-1])"
   ]
  },
  {
   "cell_type": "code",
   "execution_count": 77,
   "metadata": {},
   "outputs": [],
   "source": [
    "w_0 = x_iters[-1]"
   ]
  },
  {
   "cell_type": "code",
   "execution_count": 28,
   "metadata": {},
   "outputs": [],
   "source": [
    "a = x_iters[-1][0]\n",
    "b = x_iters[-1][1]\n",
    "c = x_iters[-1][2]"
   ]
  },
  {
   "cell_type": "code",
   "execution_count": 116,
   "metadata": {},
   "outputs": [],
   "source": [
    "a = w_0[0]\n",
    "b = w_0[1]\n",
    "c = w_0[2]"
   ]
  },
  {
   "cell_type": "code",
   "execution_count": 143,
   "metadata": {},
   "outputs": [
    {
     "data": {
      "text/plain": [
       "5.146397196167392"
      ]
     },
     "execution_count": 143,
     "metadata": {},
     "output_type": "execute_result"
    }
   ],
   "source": [
    "svm_function(x_iters[-1])"
   ]
  },
  {
   "cell_type": "code",
   "execution_count": 144,
   "metadata": {},
   "outputs": [],
   "source": [
    "y_pred = np.dot(X_,x_iters[-1])"
   ]
  },
  {
   "cell_type": "code",
   "execution_count": 29,
   "metadata": {},
   "outputs": [],
   "source": [
    "y_pred = (-np.concatenate([x_1,x_1])*a -c )/b \n",
    "y_pred_sup_pos = (1-np.concatenate([x_1,x_1])*a -c )/b \n",
    "y_pred_sup_neg = (-1-np.concatenate([x_1,x_1])*a -c )/b "
   ]
  },
  {
   "cell_type": "code",
   "execution_count": 30,
   "metadata": {},
   "outputs": [
    {
     "data": {
      "text/plain": [
       "[<matplotlib.lines.Line2D at 0x7f6e5a9ea5e0>]"
      ]
     },
     "execution_count": 30,
     "metadata": {},
     "output_type": "execute_result"
    },
    {
     "data": {
      "image/png": "[encoded data removed]",
      "text/plain": [
       "<Figure size 432x288 with 1 Axes>"
      ]
     },
     "metadata": {
      "needs_background": "light"
     },
     "output_type": "display_data"
    }
   ],
   "source": [
    "plt.scatter(x_1,x_2_a,color = \"blue\")\n",
    "plt.scatter(x_1,x_2_b,color = \"red\")\n",
    "plt.plot(np.concatenate([x_1,x_1]),y_pred,color = \"red\")\n",
    "plt.plot(np.concatenate([x_1,x_1]),y_pred_sup_pos,color = \"blue\",linestyle = \"--\")\n",
    "plt.plot(np.concatenate([x_1,x_1]),y_pred_sup_neg,color = \"blue\",linestyle = \"--\")"
   ]
  }
 ],
 "metadata": {
  "kernelspec": {
   "display_name": "Python 3",
   "language": "python",
   "name": "python3"
  },
  "language_info": {
   "codemirror_mode": {
    "name": "ipython",
    "version": 3
   },
   "file_extension": ".py",
   "mimetype": "text/x-python",
   "name": "python",
   "nbconvert_exporter": "python",
   "pygments_lexer": "ipython3",
   "version": "3.8.5"
  }
 },
 "nbformat": 4,
 "nbformat_minor": 4
}
