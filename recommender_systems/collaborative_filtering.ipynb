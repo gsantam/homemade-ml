{
 "cells": [
  {
   "cell_type": "markdown",
   "metadata": {},
   "source": [
    "## Collaborative filtering"
   ]
  },
  {
   "cell_type": "markdown",
   "metadata": {},
   "source": [
    "Consider a weighted bipartite graph were each set of vertices represents an entity such as *users* vs *products*. A (weighted) edge between two nodes normally means an interaction between the two entities. In our example, if a *user* and a certain *product* are connected it means that the *user* has acquired the *product* and has given it a rating (from 0 to 5, for example), which is represented by the weight of the edge. In collaborative filtering one tries to guess the weights of those pairs of vertices which are not connected, by considering those which are connected. "
   ]
  },
  {
   "cell_type": "markdown",
   "metadata": {},
   "source": [
    "### The content base approach"
   ]
  },
  {
   "cell_type": "markdown",
   "metadata": {},
   "source": [
    "Imagine that we have some feature vector $X$ describing each product. Then for **each** user, we can train a linear regression model on those products that are connected to that user, using their features $X$ to predict their weights $y$.\n",
    "\n",
    "Let $edge(u)$ be all products connected to the user $u$. Then as we saw in other notebooks, this is equivalent to minimizing the loss function: $L(w,b) = \\frac{1}{2|edge(u)|}\\sum_{(x,y)\\in edge(u)} (f_{w,b}(x) - y)^{2}$, where $f_{w,b}(x) = \\sum_{1}^{n} x_{i}w_{i} + b$ and $w$ and $b$ are the parameters of our model. \n",
    "\n",
    "In order to simplify this expression, let's write it in a matricial form, compressing the bias term. Let $X = (1,x_{1}, \\dots, x_{n})$ and $W = (b,w_{1},\\dots,w_{n})$, so $f_{W}(x) = WX^{t}$ and $L(W) = \\frac{1}{2|edge(u)|}\\sum_{(X,y)\\in edge(u)} (WX^{t} - y)^{2}$. \n",
    "\n",
    "If we do this for all users, and aggregate their loss functions in one, we get:\n",
    "\n",
    "$L(W_{1},\\dots,W_{m}) = \\sum_{i = 1}^{m}L(W_{i}) = \\sum_{i = 1}^{m}(\\frac{1}{2|edge(u_i)|}\\sum_{(X,y)\\in edge(u_i)} (W_{i}X^{t} - y)^{2})$. \n",
    "\n",
    "Since now we are iterating through each edge of the graph, we can group the two summands in just one (per edge), and therefore:\n",
    "\n",
    "$L(W) = \\frac{1}{2}\\sum_{(W,X,y)\\in E} (WX^{t} - y)^{2}$, where each edge $E$ from $user$ to $product$ is a triplet $(W,X,y)$, where $W$ is the model of the user, $X$ the features of the product and $y$ the weight of the edge\n",
    "\n",
    "\n",
    "Of course, since the $W_{i}$ only depends on the user $i$, it is exactly the same to minimize each loss function for each user independently or to minimize the sum of all of them together. "
   ]
  },
  {
   "cell_type": "markdown",
   "metadata": {},
   "source": [
    "### The collaborative approach"
   ]
  },
  {
   "cell_type": "markdown",
   "metadata": {},
   "source": [
    "The problem is that, in general, one does not have the vector of features $X$ for each product, since computing it is very costly. The collaborative filtering approach is based on modeling these vectors $X$s along with their respective user models $W$s. So the loss function defined above does not depend only on the user models $W_{1},\\dots,W_{m}$ but also on the feature vectors of the products, $X_{1},\\dots X_{m'}$, so we simply try to minimize:\n",
    "\n",
    "$L(W_{1},\\dots,W_{m},X_{1},\\dots X_{m'})$\n",
    "\n",
    "As in other notebooks, we want to use gradient descent to do that, and therefore we want to compute the partial derivative of $L$ with respect to each of its variables. In particular:\n",
    "\n",
    "$\\frac{\\partial L}{\\partial W_{i}} = \\frac{1}{2}\\sum_{(W_{i},X,y)\\in E} (W_{i}X^{t} - y)X$\n",
    "\n",
    "$\\frac{\\partial L}{\\partial X_{j}} = \\frac{1}{2}\\sum_{(W,X_{j},y)\\in E} (WX_{j}^{t} - y)W$"
   ]
  },
  {
   "cell_type": "markdown",
   "metadata": {},
   "source": [
    "Of course, we need to initialize $W$ and $X$ to certain random (small) values and we need to define $n$ the number of features and therefore dimensions of $W$ and $X$. Let's do an example, with an [imdb movie ratings dataset](https://www.kaggle.com/rounakbanik/the-movies-dataset#ratings_small.csv)."
   ]
  },
  {
   "cell_type": "code",
   "execution_count": 1,
   "metadata": {},
   "outputs": [],
   "source": [
    "import pandas as pd\n",
    "import numpy as np\n",
    "ratings = pd.read_csv(\"ratings_small.csv\")"
   ]
  },
  {
   "cell_type": "code",
   "execution_count": 2,
   "metadata": {},
   "outputs": [],
   "source": [
    "# number of features\n",
    "n = 5\n",
    "# size of one set of vertices\n",
    "n_users = len(ratings.userId.unique())\n",
    "# size of the other set of vertices\n",
    "n_products = len(ratings.movieId.unique())"
   ]
  },
  {
   "cell_type": "code",
   "execution_count": 3,
   "metadata": {},
   "outputs": [
    {
     "data": {
      "text/plain": [
       "<matplotlib.axes._subplots.AxesSubplot at 0x10ff435d0>"
      ]
     },
     "execution_count": 3,
     "metadata": {},
     "output_type": "execute_result"
    },
    {
     "data": {
      "image/png": "[encoded data removed]",
      "text/plain": [
       "<Figure size 432x288 with 1 Axes>"
      ]
     },
     "metadata": {
      "needs_background": "light"
     },
     "output_type": "display_data"
    }
   ],
   "source": [
    "%matplotlib inline\n",
    "\n",
    "ratings.rating.hist(bins=5)"
   ]
  },
  {
   "cell_type": "code",
   "execution_count": 3,
   "metadata": {},
   "outputs": [],
   "source": [
    "graph = np.asarray(ratings.pivot(index=\"userId\",columns = \"movieId\",values = \"rating\"))\n",
    "movie_ids = ratings.pivot(index=\"userId\",columns = \"movieId\",values = \"rating\").axes[1]\n",
    "movie_ids = pd.DataFrame(movie_ids)\n",
    "graph = np.asarray(graph)"
   ]
  },
  {
   "cell_type": "markdown",
   "metadata": {},
   "source": [
    "Here is the adjency matrix of the bipartite graph:"
   ]
  },
  {
   "cell_type": "code",
   "execution_count": 4,
   "metadata": {},
   "outputs": [
    {
     "data": {
      "text/plain": [
       "(671, 9066)"
      ]
     },
     "execution_count": 4,
     "metadata": {},
     "output_type": "execute_result"
    }
   ],
   "source": [
    "graph.shape"
   ]
  },
  {
   "cell_type": "markdown",
   "metadata": {},
   "source": [
    "Let's pick some edges of the graph for evaluation:"
   ]
  },
  {
   "cell_type": "code",
   "execution_count": 4,
   "metadata": {},
   "outputs": [],
   "source": [
    "# These are the positions of the non null edges in the matrix\n",
    "not_null_edges = np.where(~pd.isnull(graph))\n",
    "total_edges = len(not_null_edges[0])\n",
    "# Pick the 20% of them for evaluation\n",
    "eval_edges_pos = np.random.randint(low = 0,high=len(not_null_edges[0]),size=int(total_edges*0.8))\n",
    "eval_y = graph[(not_null_edges[0][eval_edges_pos],not_null_edges[1][eval_edges_pos])]\n",
    "# Create two graphs, one for training and one for evaluation\n",
    "train_graph = graph.copy()\n",
    "eval_graph = graph.copy()\n",
    "eval_graph[:,:] = np.nan\n",
    "#Remove the edges of evaluation from the graph for training\n",
    "train_graph[(not_null_edges[0][eval_edges_pos],not_null_edges[1][eval_edges_pos])] = np.nan\n",
    "#Add the edges for evaluation for the graph for evaluating\n",
    "eval_graph[(not_null_edges[0][eval_edges_pos],not_null_edges[1][eval_edges_pos])] = eval_y"
   ]
  },
  {
   "cell_type": "code",
   "execution_count": 5,
   "metadata": {},
   "outputs": [],
   "source": [
    "n_train = len(np.where(~pd.isnull(train_graph))[0])\n",
    "n_eval = len(np.where(~pd.isnull(eval_graph))[0])"
   ]
  },
  {
   "cell_type": "markdown",
   "metadata": {},
   "source": [
    "Implement a gradient descend strategy to find a minimum. Run it for 500 iterations:"
   ]
  },
  {
   "cell_type": "code",
   "execution_count": 6,
   "metadata": {},
   "outputs": [],
   "source": [
    "def gradient_descend(its):\n",
    "    #initialize the models and features matrices\n",
    "    W = np.random.rand(n_users,n)\n",
    "    X = np.random.rand(n_products,n)\n",
    "    metrics = []\n",
    "    for i in range(its):\n",
    "        if i%100==0:\n",
    "            print(i)\n",
    "        #WX - y \n",
    "        train_dif_pred_true = (np.dot(W,X.T) - train_graph)\n",
    "        eval_dif_pred_true = (np.dot(W,X.T) - eval_graph)\n",
    "        #WX - y with nans imputed as 0\n",
    "        dif_pred_true_imputed_0  = train_dif_pred_true.copy()\n",
    "        dif_pred_true_imputed_0[np.where(pd.isnull(dif_pred_true_imputed_0))] = 0\n",
    "        #Train loss\n",
    "        L_train = 0.5*np.nansum(train_dif_pred_true**2) / n_train\n",
    "        #Eval loss\n",
    "        L_eval = 0.5*np.nansum(eval_dif_pred_true**2) / n_eval\n",
    "        #Mae train\n",
    "        mae_train = np.nansum(np.abs(train_dif_pred_true))/ n_train\n",
    "        #Mae eval\n",
    "        mae_eval = np.nansum(np.abs(eval_dif_pred_true))/ n_eval\n",
    "        \n",
    "        metrics.append({\"value\":L_train,\"iter\":i,\"set\":\"train\",\"metric\":\"loss\"})\n",
    "        metrics.append({\"value\":L_eval,\"iter\":i,\"set\":\"eval\",\"metric\":\"loss\"})\n",
    "        metrics.append({\"value\":mae_train,\"iter\":i,\"set\":\"train\",\"metric\":\"mae\"})\n",
    "        metrics.append({\"value\":mae_eval,\"iter\":i,\"set\":\"eval\",\"metric\":\"mae\"})\n",
    "        #dX = (WX - y)*W\n",
    "        dX = 0.5*np.dot(dif_pred_true_imputed_0.T,W)\n",
    "        #dW = (WX - y)*X\n",
    "        dW = 0.5*np.dot(dif_pred_true_imputed_0,X)\n",
    "        #gradient descend step\n",
    "        X = X - 0.001*dX\n",
    "        W = W - 0.001*dW\n",
    "\n",
    "    return metrics,X,W"
   ]
  },
  {
   "cell_type": "code",
   "execution_count": 7,
   "metadata": {},
   "outputs": [
    {
     "name": "stdout",
     "output_type": "stream",
     "text": [
      "0\n",
      "100\n",
      "200\n",
      "300\n",
      "400\n"
     ]
    }
   ],
   "source": [
    "metrics, X, W = gradient_descend(its = 500)"
   ]
  },
  {
   "cell_type": "markdown",
   "metadata": {},
   "source": [
    "Plot the evolution of the loss of eval and train with the gradient descend steps:"
   ]
  },
  {
   "cell_type": "code",
   "execution_count": 9,
   "metadata": {},
   "outputs": [
    {
     "data": {
      "image/png": "[encoded data removed]",
      "text/plain": [
       "<Figure size 640x480 with 1 Axes>"
      ]
     },
     "metadata": {},
     "output_type": "display_data"
    },
    {
     "data": {
      "text/plain": [
       "<ggplot: (282728093)>"
      ]
     },
     "execution_count": 9,
     "metadata": {},
     "output_type": "execute_result"
    }
   ],
   "source": [
    "from plotnine import *\n",
    "metrics = pd.DataFrame(metrics)\n",
    "ggplot(metrics[(metrics[\"iter\"]>8)&(metrics[\"metric\"]==\"mae\")]) + geom_line(aes(x=\"iter\",y = \"value\",color = \"set\"))"
   ]
  },
  {
   "cell_type": "code",
   "execution_count": 10,
   "metadata": {},
   "outputs": [
    {
     "data": {
      "image/png": "[encoded data removed]",
      "text/plain": [
       "<Figure size 640x480 with 1 Axes>"
      ]
     },
     "metadata": {},
     "output_type": "display_data"
    },
    {
     "data": {
      "text/plain": [
       "<ggplot: (282730065)>"
      ]
     },
     "execution_count": 10,
     "metadata": {},
     "output_type": "execute_result"
    }
   ],
   "source": [
    "from plotnine import *\n",
    "metrics = pd.DataFrame(metrics)\n",
    "ggplot(metrics[(metrics[\"iter\"]>8)&(metrics[\"metric\"]==\"loss\")]) + geom_line(aes(x=\"iter\",y = \"value\",color = \"set\"))"
   ]
  },
  {
   "cell_type": "markdown",
   "metadata": {},
   "source": [
    "As expected, the train loss consistenly descends and the eval one descends for the first 150 iterations and then starts to increase again. This is obviously overfitting and therefore we should *early stop* the algorithm after 150 its.\n",
    "\n"
   ]
  },
  {
   "cell_type": "code",
   "execution_count": 11,
   "metadata": {},
   "outputs": [
    {
     "name": "stdout",
     "output_type": "stream",
     "text": [
      "0\n",
      "100\n"
     ]
    }
   ],
   "source": [
    "metrics, X, W = gradient_descend(its = 150)"
   ]
  },
  {
   "cell_type": "markdown",
   "metadata": {},
   "source": [
    "Now, to understand if the model is working well, for a given movie, let's try to find those that have similar features. To do that we need to merge the original dataset (which only has `movieIds`) with [this](https://www.kaggle.com/rounakbanik/the-movies-dataset#links_small.csv) and [this one](https://www.kaggle.com/rounakbanik/the-movies-dataset#movies_metadata.csv):"
   ]
  },
  {
   "cell_type": "code",
   "execution_count": 16,
   "metadata": {},
   "outputs": [
    {
     "name": "stderr",
     "output_type": "stream",
     "text": [
      "/usr/local/lib/python3.7/site-packages/IPython/core/interactiveshell.py:3058: DtypeWarning: Columns (10) have mixed types. Specify dtype option on import or set low_memory=False.\n",
      "  interactivity=interactivity, compiler=compiler, result=result)\n"
     ]
    }
   ],
   "source": [
    "movie_data = pd.read_csv(\"movies_metadata.csv\")\n",
    "movie_links = pd.read_csv(\"links_small.csv\")"
   ]
  },
  {
   "cell_type": "code",
   "execution_count": 17,
   "metadata": {},
   "outputs": [
    {
     "data": {
      "text/html": [
       "<div>\n",
       "<style scoped>\n",
       "    .dataframe tbody tr th:only-of-type {\n",
       "        vertical-align: middle;\n",
       "    }\n",
       "\n",
       "    .dataframe tbody tr th {\n",
       "        vertical-align: top;\n",
       "    }\n",
       "\n",
       "    .dataframe thead th {\n",
       "        text-align: right;\n",
       "    }\n",
       "</style>\n",
       "<table border=\"1\" class=\"dataframe\">\n",
       "  <thead>\n",
       "    <tr style=\"text-align: right;\">\n",
       "      <th></th>\n",
       "      <th>movieId</th>\n",
       "      <th>imdbId</th>\n",
       "      <th>tmdbId</th>\n",
       "    </tr>\n",
       "  </thead>\n",
       "  <tbody>\n",
       "    <tr>\n",
       "      <td>0</td>\n",
       "      <td>1</td>\n",
       "      <td>114709</td>\n",
       "      <td>862.0</td>\n",
       "    </tr>\n",
       "    <tr>\n",
       "      <td>1</td>\n",
       "      <td>2</td>\n",
       "      <td>113497</td>\n",
       "      <td>8844.0</td>\n",
       "    </tr>\n",
       "    <tr>\n",
       "      <td>2</td>\n",
       "      <td>3</td>\n",
       "      <td>113228</td>\n",
       "      <td>15602.0</td>\n",
       "    </tr>\n",
       "    <tr>\n",
       "      <td>3</td>\n",
       "      <td>4</td>\n",
       "      <td>114885</td>\n",
       "      <td>31357.0</td>\n",
       "    </tr>\n",
       "    <tr>\n",
       "      <td>4</td>\n",
       "      <td>5</td>\n",
       "      <td>113041</td>\n",
       "      <td>11862.0</td>\n",
       "    </tr>\n",
       "  </tbody>\n",
       "</table>\n",
       "</div>"
      ],
      "text/plain": [
       "   movieId  imdbId   tmdbId\n",
       "0        1  114709    862.0\n",
       "1        2  113497   8844.0\n",
       "2        3  113228  15602.0\n",
       "3        4  114885  31357.0\n",
       "4        5  113041  11862.0"
      ]
     },
     "execution_count": 17,
     "metadata": {},
     "output_type": "execute_result"
    }
   ],
   "source": [
    "movie_links.head()"
   ]
  },
  {
   "cell_type": "code",
   "execution_count": 18,
   "metadata": {},
   "outputs": [
    {
     "data": {
      "text/plain": [
       "(100004, 4)"
      ]
     },
     "execution_count": 18,
     "metadata": {},
     "output_type": "execute_result"
    }
   ],
   "source": [
    "ratings.shape"
   ]
  },
  {
   "cell_type": "code",
   "execution_count": 19,
   "metadata": {},
   "outputs": [],
   "source": [
    "ratings = pd.merge(ratings,movie_links, on = [\"movieId\"], how = \"left\")"
   ]
  },
  {
   "cell_type": "code",
   "execution_count": 20,
   "metadata": {},
   "outputs": [
    {
     "data": {
      "text/plain": [
       "(100004, 6)"
      ]
     },
     "execution_count": 20,
     "metadata": {},
     "output_type": "execute_result"
    }
   ],
   "source": [
    "ratings.shape"
   ]
  },
  {
   "cell_type": "code",
   "execution_count": 21,
   "metadata": {},
   "outputs": [],
   "source": [
    "movie_data[\"imdbId\"] = movie_data[\"imdb_id\"].astype(str).apply(lambda x: x.strip(\"tt\")).astype(\"float64\")"
   ]
  },
  {
   "cell_type": "code",
   "execution_count": 22,
   "metadata": {},
   "outputs": [],
   "source": [
    "ratings = pd.merge(ratings,movie_data[[\"original_title\",\"imdbId\"]].drop_duplicates(\"imdbId\"), on = [\"imdbId\"], how = \"left\")"
   ]
  },
  {
   "cell_type": "code",
   "execution_count": 23,
   "metadata": {},
   "outputs": [],
   "source": [
    "movie_ids[\"indx_in_array\"] = list(range(len(movie_ids)))\n",
    "ratings = pd.merge(ratings,movie_ids,on = \"movieId\")"
   ]
  },
  {
   "cell_type": "code",
   "execution_count": 24,
   "metadata": {},
   "outputs": [
    {
     "data": {
      "text/html": [
       "<div>\n",
       "<style scoped>\n",
       "    .dataframe tbody tr th:only-of-type {\n",
       "        vertical-align: middle;\n",
       "    }\n",
       "\n",
       "    .dataframe tbody tr th {\n",
       "        vertical-align: top;\n",
       "    }\n",
       "\n",
       "    .dataframe thead th {\n",
       "        text-align: right;\n",
       "    }\n",
       "</style>\n",
       "<table border=\"1\" class=\"dataframe\">\n",
       "  <thead>\n",
       "    <tr style=\"text-align: right;\">\n",
       "      <th></th>\n",
       "      <th>userId</th>\n",
       "      <th>movieId</th>\n",
       "      <th>rating</th>\n",
       "      <th>timestamp</th>\n",
       "      <th>imdbId</th>\n",
       "      <th>tmdbId</th>\n",
       "      <th>original_title</th>\n",
       "      <th>indx_in_array</th>\n",
       "    </tr>\n",
       "  </thead>\n",
       "  <tbody>\n",
       "    <tr>\n",
       "      <td>0</td>\n",
       "      <td>1</td>\n",
       "      <td>31</td>\n",
       "      <td>2.5</td>\n",
       "      <td>1260759144</td>\n",
       "      <td>112792</td>\n",
       "      <td>9909.0</td>\n",
       "      <td>Dangerous Minds</td>\n",
       "      <td>30</td>\n",
       "    </tr>\n",
       "    <tr>\n",
       "      <td>117</td>\n",
       "      <td>1</td>\n",
       "      <td>1129</td>\n",
       "      <td>2.0</td>\n",
       "      <td>1260759185</td>\n",
       "      <td>82340</td>\n",
       "      <td>1103.0</td>\n",
       "      <td>Escape from New York</td>\n",
       "      <td>906</td>\n",
       "    </tr>\n",
       "    <tr>\n",
       "      <td>165</td>\n",
       "      <td>1</td>\n",
       "      <td>1172</td>\n",
       "      <td>4.0</td>\n",
       "      <td>1260759205</td>\n",
       "      <td>95765</td>\n",
       "      <td>11216.0</td>\n",
       "      <td>Nuovo Cinema Paradiso</td>\n",
       "      <td>931</td>\n",
       "    </tr>\n",
       "    <tr>\n",
       "      <td>403</td>\n",
       "      <td>1</td>\n",
       "      <td>1343</td>\n",
       "      <td>2.0</td>\n",
       "      <td>1260759131</td>\n",
       "      <td>101540</td>\n",
       "      <td>1598.0</td>\n",
       "      <td>Cape Fear</td>\n",
       "      <td>1087</td>\n",
       "    </tr>\n",
       "    <tr>\n",
       "      <td>211</td>\n",
       "      <td>1</td>\n",
       "      <td>1263</td>\n",
       "      <td>2.0</td>\n",
       "      <td>1260759151</td>\n",
       "      <td>77416</td>\n",
       "      <td>11778.0</td>\n",
       "      <td>The Deer Hunter</td>\n",
       "      <td>1017</td>\n",
       "    </tr>\n",
       "  </tbody>\n",
       "</table>\n",
       "</div>"
      ],
      "text/plain": [
       "     userId  movieId  rating   timestamp  imdbId   tmdbId  \\\n",
       "0         1       31     2.5  1260759144  112792   9909.0   \n",
       "117       1     1129     2.0  1260759185   82340   1103.0   \n",
       "165       1     1172     4.0  1260759205   95765  11216.0   \n",
       "403       1     1343     2.0  1260759131  101540   1598.0   \n",
       "211       1     1263     2.0  1260759151   77416  11778.0   \n",
       "\n",
       "            original_title  indx_in_array  \n",
       "0          Dangerous Minds             30  \n",
       "117   Escape from New York            906  \n",
       "165  Nuovo Cinema Paradiso            931  \n",
       "403              Cape Fear           1087  \n",
       "211        The Deer Hunter           1017  "
      ]
     },
     "execution_count": 24,
     "metadata": {},
     "output_type": "execute_result"
    }
   ],
   "source": [
    "ratings.sort_values([\"userId\"]).head()"
   ]
  },
  {
   "cell_type": "markdown",
   "metadata": {},
   "source": [
    "Now, for each pair of movies, compute the euclidean distance between their features:"
   ]
  },
  {
   "cell_type": "code",
   "execution_count": 41,
   "metadata": {},
   "outputs": [],
   "source": [
    "from scipy.spatial.distance import cdist\n",
    "dist_matrices = cdist(X, X,metric='cosine')"
   ]
  },
  {
   "cell_type": "code",
   "execution_count": 49,
   "metadata": {},
   "outputs": [
    {
     "data": {
      "text/html": [
       "<div>\n",
       "<style scoped>\n",
       "    .dataframe tbody tr th:only-of-type {\n",
       "        vertical-align: middle;\n",
       "    }\n",
       "\n",
       "    .dataframe tbody tr th {\n",
       "        vertical-align: top;\n",
       "    }\n",
       "\n",
       "    .dataframe thead th {\n",
       "        text-align: right;\n",
       "    }\n",
       "</style>\n",
       "<table border=\"1\" class=\"dataframe\">\n",
       "  <thead>\n",
       "    <tr style=\"text-align: right;\">\n",
       "      <th></th>\n",
       "      <th>userId</th>\n",
       "      <th>movieId</th>\n",
       "      <th>rating</th>\n",
       "      <th>timestamp</th>\n",
       "      <th>imdbId</th>\n",
       "      <th>tmdbId</th>\n",
       "      <th>original_title</th>\n",
       "      <th>indx_in_array</th>\n",
       "    </tr>\n",
       "  </thead>\n",
       "  <tbody>\n",
       "    <tr>\n",
       "      <td>85872</td>\n",
       "      <td>73</td>\n",
       "      <td>2555</td>\n",
       "      <td>1.0</td>\n",
       "      <td>1255586425</td>\n",
       "      <td>118665</td>\n",
       "      <td>22345.0</td>\n",
       "      <td>Baby Geniuses</td>\n",
       "      <td>2048</td>\n",
       "    </tr>\n",
       "    <tr>\n",
       "      <td>98873</td>\n",
       "      <td>547</td>\n",
       "      <td>26435</td>\n",
       "      <td>2.5</td>\n",
       "      <td>1248610420</td>\n",
       "      <td>79948</td>\n",
       "      <td>54663.0</td>\n",
       "      <td>Starting Over</td>\n",
       "      <td>5784</td>\n",
       "    </tr>\n",
       "    <tr>\n",
       "      <td>80137</td>\n",
       "      <td>30</td>\n",
       "      <td>4835</td>\n",
       "      <td>5.0</td>\n",
       "      <td>1002769561</td>\n",
       "      <td>80549</td>\n",
       "      <td>16769.0</td>\n",
       "      <td>Coal Miner's Daughter</td>\n",
       "      <td>3775</td>\n",
       "    </tr>\n",
       "    <tr>\n",
       "      <td>94091</td>\n",
       "      <td>232</td>\n",
       "      <td>3284</td>\n",
       "      <td>4.0</td>\n",
       "      <td>955084955</td>\n",
       "      <td>67848</td>\n",
       "      <td>27841.0</td>\n",
       "      <td>They Might Be Giants</td>\n",
       "      <td>2635</td>\n",
       "    </tr>\n",
       "    <tr>\n",
       "      <td>92329</td>\n",
       "      <td>182</td>\n",
       "      <td>270</td>\n",
       "      <td>5.0</td>\n",
       "      <td>845745671</td>\n",
       "      <td>110391</td>\n",
       "      <td>43742.0</td>\n",
       "      <td>Love Affair</td>\n",
       "      <td>242</td>\n",
       "    </tr>\n",
       "    <tr>\n",
       "      <td>96667</td>\n",
       "      <td>378</td>\n",
       "      <td>104863</td>\n",
       "      <td>3.5</td>\n",
       "      <td>1443294539</td>\n",
       "      <td>1486834</td>\n",
       "      <td>212716.0</td>\n",
       "      <td>What If</td>\n",
       "      <td>8378</td>\n",
       "    </tr>\n",
       "    <tr>\n",
       "      <td>71787</td>\n",
       "      <td>19</td>\n",
       "      <td>969</td>\n",
       "      <td>5.0</td>\n",
       "      <td>855192254</td>\n",
       "      <td>43265</td>\n",
       "      <td>488.0</td>\n",
       "      <td>The African Queen</td>\n",
       "      <td>786</td>\n",
       "    </tr>\n",
       "    <tr>\n",
       "      <td>99573</td>\n",
       "      <td>620</td>\n",
       "      <td>54780</td>\n",
       "      <td>2.5</td>\n",
       "      <td>1455532002</td>\n",
       "      <td>489237</td>\n",
       "      <td>12435.0</td>\n",
       "      <td>The Nanny Diaries</td>\n",
       "      <td>6741</td>\n",
       "    </tr>\n",
       "    <tr>\n",
       "      <td>83777</td>\n",
       "      <td>53</td>\n",
       "      <td>484</td>\n",
       "      <td>1.0</td>\n",
       "      <td>955192933</td>\n",
       "      <td>110305</td>\n",
       "      <td>29918.0</td>\n",
       "      <td>Lassie</td>\n",
       "      <td>431</td>\n",
       "    </tr>\n",
       "    <tr>\n",
       "      <td>56448</td>\n",
       "      <td>15</td>\n",
       "      <td>4029</td>\n",
       "      <td>4.0</td>\n",
       "      <td>1033343955</td>\n",
       "      <td>120202</td>\n",
       "      <td>21991.0</td>\n",
       "      <td>State and Main</td>\n",
       "      <td>3229</td>\n",
       "    </tr>\n",
       "  </tbody>\n",
       "</table>\n",
       "</div>"
      ],
      "text/plain": [
       "       userId  movieId  rating   timestamp   imdbId    tmdbId  \\\n",
       "85872      73     2555     1.0  1255586425   118665   22345.0   \n",
       "98873     547    26435     2.5  1248610420    79948   54663.0   \n",
       "80137      30     4835     5.0  1002769561    80549   16769.0   \n",
       "94091     232     3284     4.0   955084955    67848   27841.0   \n",
       "92329     182      270     5.0   845745671   110391   43742.0   \n",
       "96667     378   104863     3.5  1443294539  1486834  212716.0   \n",
       "71787      19      969     5.0   855192254    43265     488.0   \n",
       "99573     620    54780     2.5  1455532002   489237   12435.0   \n",
       "83777      53      484     1.0   955192933   110305   29918.0   \n",
       "56448      15     4029     4.0  1033343955   120202   21991.0   \n",
       "\n",
       "              original_title  indx_in_array  \n",
       "85872          Baby Geniuses           2048  \n",
       "98873          Starting Over           5784  \n",
       "80137  Coal Miner's Daughter           3775  \n",
       "94091   They Might Be Giants           2635  \n",
       "92329            Love Affair            242  \n",
       "96667                What If           8378  \n",
       "71787      The African Queen            786  \n",
       "99573      The Nanny Diaries           6741  \n",
       "83777                 Lassie            431  \n",
       "56448         State and Main           3229  "
      ]
     },
     "execution_count": 49,
     "metadata": {},
     "output_type": "execute_result"
    }
   ],
   "source": [
    "ratings.drop_duplicates(\"original_title\").sample(10)"
   ]
  },
  {
   "cell_type": "code",
   "execution_count": 61,
   "metadata": {},
   "outputs": [
    {
     "data": {
      "text/plain": [
       "array([ 321, 3157, 6225, 6709, 5700, 5908, 8086, 8827, 5157, 1393])"
      ]
     },
     "execution_count": 61,
     "metadata": {},
     "output_type": "execute_result"
    }
   ],
   "source": [
    "np.argsort(dist_matrices[321])[0:10]"
   ]
  },
  {
   "cell_type": "code",
   "execution_count": 64,
   "metadata": {},
   "outputs": [
    {
     "data": {
      "text/html": [
       "<div>\n",
       "<style scoped>\n",
       "    .dataframe tbody tr th:only-of-type {\n",
       "        vertical-align: middle;\n",
       "    }\n",
       "\n",
       "    .dataframe tbody tr th {\n",
       "        vertical-align: top;\n",
       "    }\n",
       "\n",
       "    .dataframe thead th {\n",
       "        text-align: right;\n",
       "    }\n",
       "</style>\n",
       "<table border=\"1\" class=\"dataframe\">\n",
       "  <thead>\n",
       "    <tr style=\"text-align: right;\">\n",
       "      <th></th>\n",
       "      <th>userId</th>\n",
       "      <th>movieId</th>\n",
       "      <th>rating</th>\n",
       "      <th>timestamp</th>\n",
       "      <th>imdbId</th>\n",
       "      <th>tmdbId</th>\n",
       "      <th>original_title</th>\n",
       "      <th>indx_in_array</th>\n",
       "    </tr>\n",
       "  </thead>\n",
       "  <tbody>\n",
       "    <tr>\n",
       "      <td>96652</td>\n",
       "      <td>377</td>\n",
       "      <td>53974</td>\n",
       "      <td>2.0</td>\n",
       "      <td>1187054127</td>\n",
       "      <td>762114</td>\n",
       "      <td>2959.0</td>\n",
       "      <td>License to Wed</td>\n",
       "      <td>6709</td>\n",
       "    </tr>\n",
       "  </tbody>\n",
       "</table>\n",
       "</div>"
      ],
      "text/plain": [
       "       userId  movieId  rating   timestamp  imdbId  tmdbId  original_title  \\\n",
       "96652     377    53974     2.0  1187054127  762114  2959.0  License to Wed   \n",
       "\n",
       "       indx_in_array  \n",
       "96652           6709  "
      ]
     },
     "execution_count": 64,
     "metadata": {},
     "output_type": "execute_result"
    }
   ],
   "source": [
    "ratings[ratings[\"indx_in_array\"]==6709].head(1)"
   ]
  },
  {
   "cell_type": "code",
   "execution_count": 59,
   "metadata": {},
   "outputs": [
    {
     "data": {
      "text/html": [
       "<div>\n",
       "<style scoped>\n",
       "    .dataframe tbody tr th:only-of-type {\n",
       "        vertical-align: middle;\n",
       "    }\n",
       "\n",
       "    .dataframe tbody tr th {\n",
       "        vertical-align: top;\n",
       "    }\n",
       "\n",
       "    .dataframe thead th {\n",
       "        text-align: right;\n",
       "    }\n",
       "</style>\n",
       "<table border=\"1\" class=\"dataframe\">\n",
       "  <thead>\n",
       "    <tr style=\"text-align: right;\">\n",
       "      <th></th>\n",
       "      <th>userId</th>\n",
       "      <th>movieId</th>\n",
       "      <th>rating</th>\n",
       "      <th>timestamp</th>\n",
       "      <th>imdbId</th>\n",
       "      <th>tmdbId</th>\n",
       "      <th>original_title</th>\n",
       "      <th>indx_in_array</th>\n",
       "    </tr>\n",
       "  </thead>\n",
       "  <tbody>\n",
       "    <tr>\n",
       "      <td>4476</td>\n",
       "      <td>2</td>\n",
       "      <td>356</td>\n",
       "      <td>3.0</td>\n",
       "      <td>835355628</td>\n",
       "      <td>109830</td>\n",
       "      <td>13.0</td>\n",
       "      <td>Forrest Gump</td>\n",
       "      <td>321</td>\n",
       "    </tr>\n",
       "    <tr>\n",
       "      <td>4477</td>\n",
       "      <td>3</td>\n",
       "      <td>356</td>\n",
       "      <td>5.0</td>\n",
       "      <td>1298862167</td>\n",
       "      <td>109830</td>\n",
       "      <td>13.0</td>\n",
       "      <td>Forrest Gump</td>\n",
       "      <td>321</td>\n",
       "    </tr>\n",
       "    <tr>\n",
       "      <td>4478</td>\n",
       "      <td>4</td>\n",
       "      <td>356</td>\n",
       "      <td>5.0</td>\n",
       "      <td>949919763</td>\n",
       "      <td>109830</td>\n",
       "      <td>13.0</td>\n",
       "      <td>Forrest Gump</td>\n",
       "      <td>321</td>\n",
       "    </tr>\n",
       "    <tr>\n",
       "      <td>4479</td>\n",
       "      <td>5</td>\n",
       "      <td>356</td>\n",
       "      <td>4.0</td>\n",
       "      <td>1163374152</td>\n",
       "      <td>109830</td>\n",
       "      <td>13.0</td>\n",
       "      <td>Forrest Gump</td>\n",
       "      <td>321</td>\n",
       "    </tr>\n",
       "    <tr>\n",
       "      <td>4480</td>\n",
       "      <td>7</td>\n",
       "      <td>356</td>\n",
       "      <td>3.0</td>\n",
       "      <td>851868188</td>\n",
       "      <td>109830</td>\n",
       "      <td>13.0</td>\n",
       "      <td>Forrest Gump</td>\n",
       "      <td>321</td>\n",
       "    </tr>\n",
       "    <tr>\n",
       "      <td>...</td>\n",
       "      <td>...</td>\n",
       "      <td>...</td>\n",
       "      <td>...</td>\n",
       "      <td>...</td>\n",
       "      <td>...</td>\n",
       "      <td>...</td>\n",
       "      <td>...</td>\n",
       "      <td>...</td>\n",
       "    </tr>\n",
       "    <tr>\n",
       "      <td>4812</td>\n",
       "      <td>664</td>\n",
       "      <td>356</td>\n",
       "      <td>4.5</td>\n",
       "      <td>1343731916</td>\n",
       "      <td>109830</td>\n",
       "      <td>13.0</td>\n",
       "      <td>Forrest Gump</td>\n",
       "      <td>321</td>\n",
       "    </tr>\n",
       "    <tr>\n",
       "      <td>4813</td>\n",
       "      <td>665</td>\n",
       "      <td>356</td>\n",
       "      <td>4.0</td>\n",
       "      <td>993179737</td>\n",
       "      <td>109830</td>\n",
       "      <td>13.0</td>\n",
       "      <td>Forrest Gump</td>\n",
       "      <td>321</td>\n",
       "    </tr>\n",
       "    <tr>\n",
       "      <td>4814</td>\n",
       "      <td>666</td>\n",
       "      <td>356</td>\n",
       "      <td>5.0</td>\n",
       "      <td>838920959</td>\n",
       "      <td>109830</td>\n",
       "      <td>13.0</td>\n",
       "      <td>Forrest Gump</td>\n",
       "      <td>321</td>\n",
       "    </tr>\n",
       "    <tr>\n",
       "      <td>4815</td>\n",
       "      <td>667</td>\n",
       "      <td>356</td>\n",
       "      <td>4.0</td>\n",
       "      <td>847271260</td>\n",
       "      <td>109830</td>\n",
       "      <td>13.0</td>\n",
       "      <td>Forrest Gump</td>\n",
       "      <td>321</td>\n",
       "    </tr>\n",
       "    <tr>\n",
       "      <td>4816</td>\n",
       "      <td>671</td>\n",
       "      <td>356</td>\n",
       "      <td>5.0</td>\n",
       "      <td>1063503911</td>\n",
       "      <td>109830</td>\n",
       "      <td>13.0</td>\n",
       "      <td>Forrest Gump</td>\n",
       "      <td>321</td>\n",
       "    </tr>\n",
       "  </tbody>\n",
       "</table>\n",
       "<p>341 rows × 8 columns</p>\n",
       "</div>"
      ],
      "text/plain": [
       "      userId  movieId  rating   timestamp  imdbId  tmdbId original_title  \\\n",
       "4476       2      356     3.0   835355628  109830    13.0   Forrest Gump   \n",
       "4477       3      356     5.0  1298862167  109830    13.0   Forrest Gump   \n",
       "4478       4      356     5.0   949919763  109830    13.0   Forrest Gump   \n",
       "4479       5      356     4.0  1163374152  109830    13.0   Forrest Gump   \n",
       "4480       7      356     3.0   851868188  109830    13.0   Forrest Gump   \n",
       "...      ...      ...     ...         ...     ...     ...            ...   \n",
       "4812     664      356     4.5  1343731916  109830    13.0   Forrest Gump   \n",
       "4813     665      356     4.0   993179737  109830    13.0   Forrest Gump   \n",
       "4814     666      356     5.0   838920959  109830    13.0   Forrest Gump   \n",
       "4815     667      356     4.0   847271260  109830    13.0   Forrest Gump   \n",
       "4816     671      356     5.0  1063503911  109830    13.0   Forrest Gump   \n",
       "\n",
       "      indx_in_array  \n",
       "4476            321  \n",
       "4477            321  \n",
       "4478            321  \n",
       "4479            321  \n",
       "4480            321  \n",
       "...             ...  \n",
       "4812            321  \n",
       "4813            321  \n",
       "4814            321  \n",
       "4815            321  \n",
       "4816            321  \n",
       "\n",
       "[341 rows x 8 columns]"
      ]
     },
     "execution_count": 59,
     "metadata": {},
     "output_type": "execute_result"
    }
   ],
   "source": [
    "ratings[ratings[\"original_title\"]==\"Forrest Gump\"]"
   ]
  }
 ],
 "metadata": {
  "kernelspec": {
   "display_name": "Python 3",
   "language": "python",
   "name": "python3"
  },
  "language_info": {
   "codemirror_mode": {
    "name": "ipython",
    "version": 3
   },
   "file_extension": ".py",
   "mimetype": "text/x-python",
   "name": "python",
   "nbconvert_exporter": "python",
   "pygments_lexer": "ipython3",
   "version": "3.7.7"
  }
 },
 "nbformat": 4,
 "nbformat_minor": 2
}
