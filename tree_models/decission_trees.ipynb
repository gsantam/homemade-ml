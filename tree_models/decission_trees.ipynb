{
 "cells": [
  {
   "cell_type": "markdown",
   "metadata": {},
   "source": [
    "## Decission trees"
   ]
  },
  {
   "cell_type": "markdown",
   "metadata": {},
   "source": [
    "Decission tress is an algorithm used for both regression and classification which is super easy to interpret since can be encoded as a chain of `IF` `ELSE` statements over the predictor variables. \n",
    "Given a collection of labeled examples, $(X,Y)$, where $X = X_1 \\times X_2 \\times \\dotso \\times X_m$, the decission tress algorithm can be summarized in two steps:\n",
    "- Divide the predictor space $X$ into $J$ different non-overlapping regions $R= \\{R_{1},R_{2},\\dotso, R_{j}\\}$\n",
    "- For a region $R_{i}$, let $(X_{R_{i}},Y_{R_{i}}) \\subset (X,Y)$ be all the labeled observations such that $x_{R_{i}}$ falls in $R_{i}$. Then, given a $x\\in R_{i}$:\n",
    "    - If we are doing regression, we will predict the label of $x$ with the mean of $Y_{R_{i}}$\n",
    "    - If we are doing classification we will predict the label of $x$  with the majority class in $Y_{R_{i}}$ \n",
    "\n",
    "For example, if the step one divides the space into two regions $R_{1}$ and $R_{2}$ and the mean of the labels of the samples in  $R_{1}$ is 10 and the mean of the labels of the samples in $R_{2}$ is 30, we will predict 10 is $x\\in R_{1}$, otherwise 30."
   ]
  },
  {
   "cell_type": "markdown",
   "metadata": {},
   "source": [
    "## Regression\n",
    "\n",
    "### The minimization problem"
   ]
  },
  {
   "cell_type": "markdown",
   "metadata": {},
   "source": [
    "As with linear regression, we are going to find a function $f_{R}$ which minimizes the quadratic error $L(R) = \\frac{1}{|X|}\\sum_{(x,y)\\in (X,Y)} (f_{R}(x) - y)^{2}$ of the predictions. The tricky thing here is of course how do we find $R$, the non-overlapping regions of $X$.\n",
    "For this, we are going to use a *recursive greedy* approach where, at each step, we are going to select one of the variables in $X$ and we are going to split it in two parts based on "
   ]
  },
  {
   "cell_type": "code",
   "execution_count": 1,
   "metadata": {},
   "outputs": [],
   "source": [
    "from sklearn.datasets import load_boston,load_iris,load_breast_cancer\n",
    "from sklearn.tree import DecisionTreeRegressor,DecisionTreeClassifier\n",
    "import numpy as np\n",
    "import statsmodels.api as sm\n",
    "from scipy import stats\n",
    "import matplotlib.pyplot as plt\n",
    "import math "
   ]
  },
  {
   "cell_type": "code",
   "execution_count": 2,
   "metadata": {},
   "outputs": [],
   "source": [
    "boston_dataset = load_boston()\n",
    "X = boston_dataset[\"data\"]\n",
    "y = boston_dataset[\"target\"]"
   ]
  },
  {
   "cell_type": "code",
   "execution_count": 141,
   "metadata": {},
   "outputs": [],
   "source": [
    "best_cut_for_mse = {}\n",
    "for i in range(X.shape[1]):\n",
    "    x_var = X[:,i]\n",
    "    best_mse = 10**10\n",
    "    best_cut = None\n",
    "    for x in x_var:\n",
    "        mean_y_under_x = np.mean(y[x_var<x])\n",
    "        mean_y_over_x = np.mean(y[x_var>=x])\n",
    "        sse = np.sum((y[x_var<x] - mean_y_under_x)**2) + np.sum((y[x_var>=x] - mean_y_over_x)**2)\n",
    "        mse = (1/len(y))*sse\n",
    "        if mse<=best_mse:\n",
    "            best_mse = mse\n",
    "            best_cut = x\n",
    "            best_cut_for_mse[i] = [best_mse,best_cut,mean_y_under_x,mean_y_over_x]\n",
    "            \n",
    "    "
   ]
  },
  {
   "cell_type": "code",
   "execution_count": 62,
   "metadata": {},
   "outputs": [],
   "source": [
    "class TreeNode():\n",
    "    def __init__(self,X,y,max_depth,depth = 0,mean_y = None):\n",
    "        self.X = X\n",
    "        self.y = y\n",
    "        self.leaf = False\n",
    "        self.depth = depth\n",
    "        self.max_depth = max_depth\n",
    "        self.mean_y = mean_y\n",
    "        \n",
    "    def fit(self):\n",
    "        if not (self.X.shape[0]>0 and self.X.shape[1]>0 and self.depth<self.max_depth):\n",
    "            self.leaf = True\n",
    "            return \n",
    "            \n",
    "        best_cut = self.get_best_predictor_with_cut()\n",
    "        self.predictor_idx = best_cut[0]\n",
    "        self.cut = best_cut[1]\n",
    "        self.mean_y_under_cut = best_cut[2]\n",
    "        self.mean_y_over_cut = best_cut[3]\n",
    "        predictor = self.X[:,self.predictor_idx]\n",
    "        \n",
    "        X_left = self.X[predictor<self.cut,:]\n",
    "        y_left = self.y[predictor<self.cut]\n",
    "        #X_left = np.delete(X_left,self.predictor_idx,axis = 1)  \n",
    "        self.left_node = TreeNode(X_left,y_left,self.max_depth,self.depth + 1,self.mean_y_under_cut)\n",
    "        self.left_node.fit()\n",
    "    \n",
    "        X_right = self.X[predictor>=self.cut,:]\n",
    "        y_right = self.y[predictor>=self.cut]\n",
    "        #X_right = np.delete(X_right,self.predictor_idx,axis = 1)  \n",
    "        self.right_node = TreeNode(X_right,y_right,self.max_depth,self.depth + 1,self.mean_y_over_cut)\n",
    "        self.right_node.fit()\n",
    "            \n",
    "    def predict(self,X):\n",
    "        y_s = []\n",
    "        for x in X:\n",
    "            y_s.append(self.predict_(x))\n",
    "        return np.asarray(y_s)\n",
    "        \n",
    "    def predict_(self,x):\n",
    "        if self.leaf:\n",
    "            return self.mean_y\n",
    "        else:\n",
    "            value_at_predictor = x[self.predictor_idx]\n",
    "            #x_without_predictor = np.delete(x,self.predictor_idx,axis = 0)\n",
    "            x_without_predictor = x\n",
    "            if value_at_predictor < self.cut:\n",
    "                return self.left_node.predict_(x_without_predictor)\n",
    "            else:\n",
    "                return self.right_node.predict_(x_without_predictor)\n",
    "        \n",
    "    def get_best_predictor_with_cut(self):\n",
    "\n",
    "        best_mse = 10**10\n",
    "        for predictor_idx in range(self.X.shape[1]):\n",
    "            best_mse_of_predictor = 10**10\n",
    "            predictor = self.X[:,predictor_idx]\n",
    "            for cut in predictor:\n",
    "                mean_y_under_cut = np.mean(self.y[predictor<cut])\n",
    "                mean_y_over_cut = np.mean(self.y[predictor>=cut])\n",
    "                sse = np.sum((self.y[predictor<cut] - mean_y_under_cut)**2) + np.sum((self.y[predictor>=cut] - mean_y_over_cut)**2)\n",
    "                mse = (1/len(self.y))*sse\n",
    "                if mse<=best_mse_of_predictor:\n",
    "                    best_mse_of_predictor = mse\n",
    "                    best_cut_of_predictor = [predictor_idx,cut,mean_y_under_cut,mean_y_over_cut]\n",
    "                    \n",
    "            if best_mse_of_predictor<best_mse:\n",
    "                best_mse = best_mse_of_predictor \n",
    "                best_cut = best_cut_of_predictor\n",
    "                    \n",
    "        return best_cut\n",
    "    \n",
    "    def get_error(self):\n",
    "        if self.leaf:\n",
    "            return np.sum((self.mean_y - self.y)**2)\n",
    "        else:\n",
    "            return self.left_node.get_error() + self.right_node.get_error()\n",
    "                \n",
    "\n",
    "model = TreeNode(X,y,4)\n",
    "model.fit()\n",
    "y_pred = model.predict(X)"
   ]
  },
  {
   "cell_type": "code",
   "execution_count": 63,
   "metadata": {},
   "outputs": [
    {
     "data": {
      "text/plain": [
       "4880.779104426192"
      ]
     },
     "execution_count": 63,
     "metadata": {},
     "output_type": "execute_result"
    }
   ],
   "source": [
    "model.get_error()"
   ]
  },
  {
   "cell_type": "code",
   "execution_count": 64,
   "metadata": {},
   "outputs": [
    {
     "data": {
      "text/plain": [
       "4880.779104426193"
      ]
     },
     "execution_count": 64,
     "metadata": {},
     "output_type": "execute_result"
    }
   ],
   "source": [
    "np.dot(y - tree.predict(X),y - tree.predict(X))"
   ]
  },
  {
   "cell_type": "code",
   "execution_count": 56,
   "metadata": {},
   "outputs": [
    {
     "data": {
      "text/plain": [
       "DecisionTreeRegressor(max_depth=4, random_state=0)"
      ]
     },
     "execution_count": 56,
     "metadata": {},
     "output_type": "execute_result"
    }
   ],
   "source": [
    "tree = DecisionTreeRegressor(random_state = 0,max_depth = 4)\n",
    "tree.fit(X,y)"
   ]
  },
  {
   "cell_type": "code",
   "execution_count": 57,
   "metadata": {},
   "outputs": [
    {
     "data": {
      "text/plain": [
       "4880.779104426193"
      ]
     },
     "execution_count": 57,
     "metadata": {},
     "output_type": "execute_result"
    }
   ],
   "source": [
    "np.dot(y - tree.predict(X),y - tree.predict(X))"
   ]
  },
  {
   "cell_type": "markdown",
   "metadata": {},
   "source": [
    "## Classification"
   ]
  },
  {
   "cell_type": "code",
   "execution_count": 132,
   "metadata": {},
   "outputs": [],
   "source": [
    "breast_cancer_dataset = load_breast_cancer()\n",
    "X = breast_cancer_dataset[\"data\"]\n",
    "y = breast_cancer_dataset[\"target\"]"
   ]
  },
  {
   "cell_type": "code",
   "execution_count": 133,
   "metadata": {},
   "outputs": [
    {
     "data": {
      "text/plain": [
       "(569, 30)"
      ]
     },
     "execution_count": 133,
     "metadata": {},
     "output_type": "execute_result"
    }
   ],
   "source": [
    "X.shape"
   ]
  },
  {
   "cell_type": "code",
   "execution_count": 161,
   "metadata": {},
   "outputs": [],
   "source": [
    "from collections import Counter\n",
    "import math\n",
    "\n",
    "def compute_entropy(props):\n",
    "    entropy = 0\n",
    "    for prop in props:\n",
    "        entropy-=props[prop]*math.log(props[prop])\n",
    "    return entropy\n",
    "\n",
    "\n",
    "class TreeNode():\n",
    "    def __init__(self,X,y,max_depth,depth = 0,mean_y = None):\n",
    "        self.X = X\n",
    "        self.y = y\n",
    "        self.leaf = False\n",
    "        self.depth = depth\n",
    "        self.max_depth = max_depth\n",
    "        self.mean_y = mean_y\n",
    "        \n",
    "    def fit(self):\n",
    "        if not (self.X.shape[0]>0 and self.X.shape[1]>0 and self.depth<self.max_depth):\n",
    "            self.leaf = True\n",
    "            return \n",
    "            \n",
    "        best_cut = self.get_best_predictor_with_cut()\n",
    "        self.predictor_idx = best_cut[0]\n",
    "        self.cut = best_cut[1]\n",
    "        self.mean_y_under_cut = best_cut[2]\n",
    "        self.mean_y_over_cut = best_cut[3]\n",
    "        predictor = self.X[:,self.predictor_idx]\n",
    "        \n",
    "        X_left = self.X[predictor<self.cut,:]\n",
    "        y_left = self.y[predictor<self.cut]\n",
    "        #X_left = np.delete(X_left,self.predictor_idx,axis = 1)  \n",
    "        self.left_node = TreeNode(X_left,y_left,self.max_depth,self.depth + 1,self.mean_y_under_cut)\n",
    "        self.left_node.fit()\n",
    "    \n",
    "        X_right = self.X[predictor>=self.cut,:]\n",
    "        y_right = self.y[predictor>=self.cut]\n",
    "        #X_right = np.delete(X_right,self.predictor_idx,axis = 1)  \n",
    "        self.right_node = TreeNode(X_right,y_right,self.max_depth,self.depth + 1,self.mean_y_over_cut)\n",
    "        self.right_node.fit()\n",
    "            \n",
    "    def predict(self,X):\n",
    "        y_s = []\n",
    "        for x in X:\n",
    "            y_s.append(self.predict_(x))\n",
    "        return np.asarray(y_s)\n",
    "        \n",
    "    def predict_(self,x):\n",
    "        if self.leaf:\n",
    "            return self.mean_y\n",
    "        else:\n",
    "            value_at_predictor = x[self.predictor_idx]\n",
    "            #x_without_predictor = np.delete(x,self.predictor_idx,axis = 0)\n",
    "            x_without_predictor = x\n",
    "            if value_at_predictor < self.cut:\n",
    "                return self.left_node.predict_(x_without_predictor)\n",
    "            else:\n",
    "                return self.right_node.predict_(x_without_predictor)\n",
    "        \n",
    "    def get_best_predictor_with_cut(self):\n",
    "\n",
    "        best_entropy = 10**10\n",
    "        for predictor_idx in range(self.X.shape[1]):\n",
    "            best_entropy_of_predictor = 10**10\n",
    "            predictor = self.X[:,predictor_idx]\n",
    "            for cut in predictor:\n",
    "                prop_y_under_cut = Counter(self.y[predictor<cut])\n",
    "                prop_y_over_cut = Counter(self.y[predictor>=cut])\n",
    "                prop_y_under_cut = {x:prop_y_under_cut[x]/len(self.y[predictor<cut]) for x in prop_y_under_cut}\n",
    "                prop_y_over_cut = {x:prop_y_over_cut[x]/len(self.y[predictor>=cut]) for x in prop_y_over_cut}\n",
    "                entropy = 0\n",
    "                if len(self.y[predictor<cut])>0:\n",
    "                    entropy += compute_entropy(prop_y_under_cut)*(len(self.y[predictor<cut])/len(self.y) ) \n",
    "                if len(self.y[predictor>=cut])>0:\n",
    "                    entropy += compute_entropy(prop_y_over_cut)*(len(self.y[predictor>=cut])/len(self.y) ) \n",
    "                \n",
    "                if entropy<=best_entropy_of_predictor:\n",
    "                    best_entropy_of_predictor = entropy\n",
    "                    best_cut_of_predictor = [predictor_idx,cut,prop_y_under_cut,prop_y_over_cut]\n",
    "                    \n",
    "            if best_entropy_of_predictor<best_entropy:\n",
    "                best_entropy = best_entropy_of_predictor \n",
    "                best_cut = best_cut_of_predictor\n",
    "                    \n",
    "        return best_cut\n",
    "    \n",
    "    def get_error(self):\n",
    "        if self.leaf:\n",
    "            return np.sum((self.mean_y - self.y)**2)\n",
    "        else:\n",
    "            return self.left_node.get_error() + self.right_node.get_error()\n",
    "                \n",
    "\n",
    "model = TreeNode(X,y,4)\n",
    "model.fit()\n",
    "y_pred = model.predict(X)"
   ]
  },
  {
   "cell_type": "code",
   "execution_count": 162,
   "metadata": {},
   "outputs": [
    {
     "data": {
      "text/plain": [
       "array([{0: 1.0}, {0: 1.0}, {0: 1.0}, {0: 0.8, 1: 0.2}, {0: 1.0},\n",
       "       {0: 0.8, 1: 0.2}, {0: 1.0}, {0: 1.0}, {0: 1.0}, {0: 1.0}, {0: 1.0},\n",
       "       {0: 1.0}, {0: 1.0},\n",
       "       {0: 0.5714285714285714, 1: 0.42857142857142855}, {0: 1.0},\n",
       "       {0: 1.0}, {0: 1.0}, {0: 1.0}, {0: 1.0}, {1: 1.0}, {1: 1.0},\n",
       "       {1: 1.0}, {0: 1.0}, {0: 1.0}, {0: 1.0}, {0: 1.0}, {0: 1.0},\n",
       "       {0: 1.0}, {0: 1.0}, {0: 1.0}, {0: 1.0}, {0: 1.0}, {0: 1.0},\n",
       "       {0: 1.0}, {0: 1.0}, {0: 1.0}, {0: 1.0}, {1: 1.0}, {0: 1.0},\n",
       "       {0: 1.0}, {0: 0.047619047619047616, 1: 0.9523809523809523},\n",
       "       {0: 1.0}, {0: 1.0}, {0: 1.0}, {0: 1.0}, {0: 1.0}, {1: 1.0},\n",
       "       {0: 1.0}, {1: 1.0},\n",
       "       {0: 0.047619047619047616, 1: 0.9523809523809523}, {1: 1.0},\n",
       "       {1: 1.0}, {1: 1.0}, {0: 1.0}, {0: 1.0}, {1: 1.0}, {0: 1.0},\n",
       "       {0: 1.0}, {1: 1.0}, {1: 1.0}, {1: 1.0}, {1: 1.0}, {0: 1.0},\n",
       "       {1: 1.0}, {0: 1.0}, {0: 1.0},\n",
       "       {0: 0.047619047619047616, 1: 0.9523809523809523}, {1: 1.0},\n",
       "       {0: 0.8, 1: 0.2}, {1: 1.0}, {0: 1.0}, {1: 1.0}, {0: 1.0}, {0: 1.0},\n",
       "       {1: 1.0}, {0: 1.0}, {1: 1.0}, {0: 1.0}, {0: 1.0}, {1: 1.0},\n",
       "       {0: 0.047619047619047616, 1: 0.9523809523809523}, {1: 1.0},\n",
       "       {0: 1.0}, {0: 1.0}, {1: 1.0}, {0: 1.0},\n",
       "       {0: 0.5714285714285714, 1: 0.42857142857142855}, {0: 1.0},\n",
       "       {0: 0.047619047619047616, 1: 0.9523809523809523}, {1: 1.0},\n",
       "       {1: 1.0}, {0: 0.5714285714285714, 1: 0.42857142857142855},\n",
       "       {1: 1.0}, {1: 1.0}, {0: 1.0}, {0: 1.0}, {1: 1.0}, {1: 1.0},\n",
       "       {1: 1.0}, {0: 1.0},\n",
       "       {0: 0.5714285714285714, 1: 0.42857142857142855}, {1: 1.0},\n",
       "       {0: 0.047619047619047616, 1: 0.9523809523809523}, {1: 1.0},\n",
       "       {1: 1.0}, {0: 1.0}, {1: 1.0}, {1: 1.0}, {0: 1.0}, {1: 1.0},\n",
       "       {1: 1.0}, {1: 1.0}, {1: 1.0}, {1: 1.0}, {1: 1.0}, {1: 1.0},\n",
       "       {1: 1.0}, {0: 1.0}, {0: 1.0}, {0: 1.0}, {1: 1.0}, {0: 1.0},\n",
       "       {0: 1.0}, {1: 1.0}, {1: 1.0}, {1: 1.0}, {0: 1.0}, {0: 1.0},\n",
       "       {1: 1.0}, {0: 1.0}, {1: 1.0}, {0: 1.0}, {0: 1.0}, {1: 1.0},\n",
       "       {0: 1.0}, {0: 0.047619047619047616, 1: 0.9523809523809523},\n",
       "       {1: 1.0}, {1: 1.0}, {0: 1.0}, {1: 1.0}, {1: 1.0}, {0: 1.0},\n",
       "       {1: 1.0}, {1: 1.0}, {1: 1.0}, {1: 1.0}, {0: 0.8, 1: 0.2}, {1: 1.0},\n",
       "       {1: 1.0}, {1: 1.0}, {1: 1.0}, {1: 1.0}, {1: 1.0}, {1: 1.0},\n",
       "       {1: 1.0}, {1: 1.0}, {0: 1.0}, {1: 1.0}, {1: 1.0}, {1: 1.0},\n",
       "       {1: 1.0}, {0: 1.0}, {0: 1.0}, {1: 1.0}, {0: 1.0}, {1: 1.0},\n",
       "       {1: 1.0}, {0: 1.0}, {0: 1.0}, {1: 1.0}, {1: 1.0}, {0: 1.0},\n",
       "       {0: 1.0}, {1: 1.0}, {1: 1.0}, {1: 1.0}, {1: 1.0}, {0: 1.0},\n",
       "       {1: 1.0}, {1: 1.0}, {0: 1.0}, {0: 1.0}, {0: 1.0}, {1: 1.0},\n",
       "       {0: 0.5714285714285714, 1: 0.42857142857142855}, {1: 1.0},\n",
       "       {0: 1.0}, {1: 1.0}, {1: 1.0}, {1: 1.0}, {0: 1.0}, {1: 1.0},\n",
       "       {1: 1.0}, {0: 1.0}, {0: 1.0}, {1: 1.0}, {0: 1.0}, {0: 1.0},\n",
       "       {0: 1.0}, {0: 1.0}, {1: 1.0}, {0: 1.0}, {0: 1.0}, {0: 1.0},\n",
       "       {1: 1.0}, {0: 1.0}, {1: 1.0}, {0: 1.0}, {1: 1.0}, {1: 1.0},\n",
       "       {0: 1.0}, {1: 1.0}, {0: 1.0}, {0: 1.0}, {0: 1.0}, {0: 0.8, 1: 0.2},\n",
       "       {1: 1.0}, {1: 1.0}, {0: 1.0}, {0: 1.0}, {1: 1.0}, {1: 1.0},\n",
       "       {1: 1.0}, {0: 1.0}, {1: 1.0}, {1: 1.0}, {1: 1.0}, {1: 1.0},\n",
       "       {0: 0.047619047619047616, 1: 0.9523809523809523}, {0: 1.0},\n",
       "       {0: 1.0}, {0: 0.047619047619047616, 1: 0.9523809523809523},\n",
       "       {0: 0.047619047619047616, 1: 0.9523809523809523}, {0: 1.0},\n",
       "       {1: 1.0}, {0: 0.047619047619047616, 1: 0.9523809523809523},\n",
       "       {0: 1.0}, {0: 1.0},\n",
       "       {0: 0.047619047619047616, 1: 0.9523809523809523}, {0: 1.0},\n",
       "       {1: 1.0}, {1: 1.0}, {1: 1.0}, {1: 1.0}, {0: 1.0}, {1: 1.0},\n",
       "       {1: 1.0}, {1: 1.0},\n",
       "       {0: 0.047619047619047616, 1: 0.9523809523809523}, {1: 1.0},\n",
       "       {0: 1.0}, {1: 1.0}, {0: 1.0}, {0: 1.0}, {0: 1.0}, {0: 1.0},\n",
       "       {0: 1.0}, {0: 1.0}, {0: 1.0}, {0: 1.0}, {0: 1.0}, {0: 1.0},\n",
       "       {0: 1.0}, {0: 0.5714285714285714, 1: 0.42857142857142855},\n",
       "       {0: 1.0}, {0: 1.0}, {1: 1.0}, {1: 1.0}, {1: 1.0}, {1: 1.0},\n",
       "       {1: 1.0}, {1: 1.0}, {0: 1.0}, {1: 1.0}, {0: 1.0}, {1: 1.0},\n",
       "       {1: 1.0}, {0: 1.0}, {1: 1.0}, {1: 1.0}, {0: 1.0}, {1: 1.0},\n",
       "       {0: 1.0}, {0: 1.0}, {1: 1.0}, {1: 1.0}, {1: 1.0}, {1: 1.0},\n",
       "       {1: 1.0}, {1: 1.0}, {1: 1.0},\n",
       "       {0: 0.5714285714285714, 1: 0.42857142857142855}, {1: 1.0},\n",
       "       {1: 1.0}, {1: 1.0}, {1: 1.0}, {1: 1.0}, {0: 1.0}, {1: 1.0},\n",
       "       {1: 1.0}, {0: 1.0}, {1: 1.0}, {0: 1.0}, {1: 1.0}, {1: 1.0},\n",
       "       {0: 0.047619047619047616, 1: 0.9523809523809523}, {1: 1.0},\n",
       "       {1: 1.0}, {1: 1.0}, {1: 1.0}, {1: 1.0}, {1: 1.0}, {1: 1.0},\n",
       "       {1: 1.0}, {1: 1.0}, {1: 1.0}, {1: 1.0}, {0: 1.0}, {1: 1.0},\n",
       "       {1: 1.0}, {1: 1.0}, {0: 1.0}, {1: 1.0}, {0: 1.0}, {1: 1.0},\n",
       "       {1: 1.0}, {1: 1.0}, {1: 1.0}, {0: 1.0}, {0: 1.0}, {0: 1.0},\n",
       "       {1: 1.0}, {1: 1.0}, {1: 1.0}, {1: 1.0}, {0: 1.0}, {1: 1.0},\n",
       "       {0: 1.0}, {1: 1.0}, {0: 1.0}, {1: 1.0}, {1: 1.0}, {1: 1.0},\n",
       "       {0: 1.0}, {1: 1.0}, {1: 1.0}, {1: 1.0}, {1: 1.0}, {1: 1.0},\n",
       "       {1: 1.0}, {1: 1.0}, {0: 1.0}, {0: 1.0}, {0: 1.0}, {1: 1.0},\n",
       "       {1: 1.0}, {1: 1.0}, {1: 1.0}, {1: 1.0}, {1: 1.0}, {1: 1.0},\n",
       "       {1: 1.0}, {1: 1.0}, {1: 1.0}, {1: 1.0}, {0: 1.0}, {0: 1.0},\n",
       "       {1: 1.0}, {0: 1.0}, {0: 1.0}, {0: 1.0}, {1: 1.0}, {0: 1.0},\n",
       "       {0: 1.0}, {1: 1.0}, {1: 1.0}, {1: 1.0},\n",
       "       {0: 0.047619047619047616, 1: 0.9523809523809523}, {1: 1.0},\n",
       "       {0: 1.0}, {1: 1.0}, {1: 1.0}, {1: 1.0}, {1: 1.0}, {1: 1.0},\n",
       "       {0: 1.0}, {1: 1.0}, {1: 1.0}, {1: 1.0}, {0: 1.0}, {1: 1.0},\n",
       "       {1: 1.0}, {0: 1.0}, {0: 1.0}, {1: 1.0}, {1: 1.0}, {1: 1.0},\n",
       "       {1: 1.0}, {1: 1.0}, {1: 1.0}, {0: 1.0}, {1: 1.0}, {1: 1.0},\n",
       "       {1: 1.0}, {1: 1.0}, {1: 1.0}, {1: 1.0}, {1: 1.0}, {0: 1.0},\n",
       "       {1: 1.0}, {0: 0.047619047619047616, 1: 0.9523809523809523},\n",
       "       {1: 1.0}, {1: 1.0},\n",
       "       {0: 0.5714285714285714, 1: 0.42857142857142855},\n",
       "       {0: 0.5714285714285714, 1: 0.42857142857142855}, {1: 1.0},\n",
       "       {0: 0.047619047619047616, 1: 0.9523809523809523}, {0: 1.0},\n",
       "       {1: 1.0}, {1: 1.0}, {1: 1.0}, {1: 1.0}, {1: 1.0}, {1: 1.0},\n",
       "       {1: 1.0}, {1: 1.0}, {1: 1.0},\n",
       "       {0: 0.047619047619047616, 1: 0.9523809523809523}, {1: 1.0},\n",
       "       {1: 1.0}, {0: 1.0}, {1: 1.0}, {0: 1.0}, {0: 1.0}, {1: 1.0},\n",
       "       {0: 1.0}, {1: 1.0}, {1: 1.0}, {1: 1.0}, {1: 1.0}, {1: 1.0},\n",
       "       {0: 1.0}, {1: 1.0}, {1: 1.0}, {0: 1.0},\n",
       "       {0: 0.047619047619047616, 1: 0.9523809523809523}, {0: 1.0},\n",
       "       {1: 1.0}, {0: 0.5714285714285714, 1: 0.42857142857142855},\n",
       "       {0: 1.0}, {1: 1.0}, {0: 1.0},\n",
       "       {0: 0.047619047619047616, 1: 0.9523809523809523}, {1: 1.0},\n",
       "       {1: 1.0}, {0: 0.047619047619047616, 1: 0.9523809523809523},\n",
       "       {0: 0.047619047619047616, 1: 0.9523809523809523},\n",
       "       {0: 0.047619047619047616, 1: 0.9523809523809523},\n",
       "       {0: 0.047619047619047616, 1: 0.9523809523809523},\n",
       "       {0: 0.047619047619047616, 1: 0.9523809523809523}, {0: 1.0},\n",
       "       {0: 1.0}, {0: 0.047619047619047616, 1: 0.9523809523809523},\n",
       "       {1: 1.0}, {1: 1.0}, {1: 1.0}, {1: 1.0}, {1: 1.0}, {0: 1.0},\n",
       "       {1: 1.0}, {1: 1.0},\n",
       "       {0: 0.047619047619047616, 1: 0.9523809523809523}, {1: 1.0},\n",
       "       {0: 0.047619047619047616, 1: 0.9523809523809523}, {1: 1.0},\n",
       "       {1: 1.0}, {0: 0.5714285714285714, 1: 0.42857142857142855},\n",
       "       {1: 1.0}, {1: 1.0}, {0: 1.0}, {1: 1.0}, {1: 1.0}, {1: 1.0},\n",
       "       {1: 1.0}, {1: 1.0}, {1: 1.0}, {1: 1.0}, {0: 1.0}, {1: 1.0},\n",
       "       {0: 1.0}, {0: 0.047619047619047616, 1: 0.9523809523809523},\n",
       "       {1: 1.0}, {0: 1.0}, {1: 1.0}, {1: 1.0}, {1: 1.0}, {1: 1.0},\n",
       "       {1: 1.0}, {0: 1.0}, {0: 1.0}, {1: 1.0}, {0: 1.0}, {1: 1.0},\n",
       "       {0: 1.0}, {1: 1.0}, {1: 1.0}, {1: 1.0}, {1: 1.0}, {1: 1.0},\n",
       "       {0: 1.0}, {1: 1.0}, {1: 1.0}, {0: 1.0}, {1: 1.0},\n",
       "       {0: 0.5714285714285714, 1: 0.42857142857142855}, {1: 1.0},\n",
       "       {0: 1.0}, {0: 1.0}, {1: 1.0}, {1: 1.0}, {1: 1.0}, {0: 1.0},\n",
       "       {1: 1.0}, {1: 1.0}, {1: 1.0}, {1: 1.0}, {1: 1.0}, {1: 1.0},\n",
       "       {1: 1.0}, {1: 1.0}, {1: 1.0}, {1: 1.0}, {1: 1.0}, {0: 1.0},\n",
       "       {1: 1.0}, {0: 1.0}, {0: 1.0},\n",
       "       {0: 0.047619047619047616, 1: 0.9523809523809523},\n",
       "       {0: 0.047619047619047616, 1: 0.9523809523809523},\n",
       "       {0: 0.047619047619047616, 1: 0.9523809523809523}, {1: 1.0},\n",
       "       {0: 0.5714285714285714, 1: 0.42857142857142855},\n",
       "       {0: 0.5714285714285714, 1: 0.42857142857142855},\n",
       "       {0: 0.047619047619047616, 1: 0.9523809523809523}, {1: 1.0},\n",
       "       {1: 1.0}, {1: 1.0}, {1: 1.0}, {1: 1.0},\n",
       "       {0: 0.047619047619047616, 1: 0.9523809523809523}, {1: 1.0},\n",
       "       {1: 1.0}, {0: 0.047619047619047616, 1: 0.9523809523809523},\n",
       "       {1: 1.0}, {0: 0.047619047619047616, 1: 0.9523809523809523},\n",
       "       {0: 0.047619047619047616, 1: 0.9523809523809523}, {1: 1.0},\n",
       "       {0: 0.047619047619047616, 1: 0.9523809523809523}, {1: 1.0},\n",
       "       {0: 0.047619047619047616, 1: 0.9523809523809523},\n",
       "       {0: 0.047619047619047616, 1: 0.9523809523809523},\n",
       "       {0: 0.047619047619047616, 1: 0.9523809523809523}, {0: 1.0},\n",
       "       {0: 1.0}, {0: 1.0}, {0: 1.0}, {0: 1.0}, {0: 1.0},\n",
       "       {0: 0.047619047619047616, 1: 0.9523809523809523}], dtype=object)"
      ]
     },
     "execution_count": 162,
     "metadata": {},
     "output_type": "execute_result"
    }
   ],
   "source": [
    "y_pred"
   ]
  },
  {
   "cell_type": "code",
   "execution_count": 163,
   "metadata": {},
   "outputs": [
    {
     "data": {
      "text/plain": [
       "DecisionTreeClassifier(criterion='entropy', max_depth=4, random_state=0)"
      ]
     },
     "execution_count": 163,
     "metadata": {},
     "output_type": "execute_result"
    }
   ],
   "source": [
    "tree = DecisionTreeClassifier(random_state = 0,max_depth = 4,criterion = \"entropy\") \n",
    "tree.fit(X,y)"
   ]
  },
  {
   "cell_type": "code",
   "execution_count": 165,
   "metadata": {},
   "outputs": [
    {
     "data": {
      "text/plain": [
       "array([[1.        , 0.        ],\n",
       "       [1.        , 0.        ],\n",
       "       [1.        , 0.        ],\n",
       "       [0.8       , 0.2       ],\n",
       "       [1.        , 0.        ],\n",
       "       [0.8       , 0.2       ],\n",
       "       [1.        , 0.        ],\n",
       "       [1.        , 0.        ],\n",
       "       [1.        , 0.        ],\n",
       "       [1.        , 0.        ],\n",
       "       [1.        , 0.        ],\n",
       "       [1.        , 0.        ],\n",
       "       [1.        , 0.        ],\n",
       "       [0.57142857, 0.42857143],\n",
       "       [1.        , 0.        ],\n",
       "       [1.        , 0.        ],\n",
       "       [1.        , 0.        ],\n",
       "       [1.        , 0.        ],\n",
       "       [1.        , 0.        ],\n",
       "       [0.        , 1.        ]])"
      ]
     },
     "execution_count": 165,
     "metadata": {},
     "output_type": "execute_result"
    }
   ],
   "source": [
    "tree.predict_proba(X,)[:20]"
   ]
  },
  {
   "cell_type": "code",
   "execution_count": 175,
   "metadata": {},
   "outputs": [
    {
     "data": {
      "text/plain": [
       "0.36786104643292994"
      ]
     },
     "execution_count": 175,
     "metadata": {},
     "output_type": "execute_result"
    }
   ],
   "source": [
    "n = 10000\n",
    "((n-1)**n)/(n**n) "
   ]
  },
  {
   "cell_type": "code",
   "execution_count": 1,
   "metadata": {},
   "outputs": [],
   "source": [
    "from sklearn.datasets import load_boston,load_iris,load_breast_cancer\n",
    "from sklearn.tree import DecisionTreeRegressor,DecisionTreeClassifier\n",
    "import numpy as np\n",
    "import statsmodels.api as sm\n",
    "from scipy import stats\n",
    "import matplotlib.pyplot as plt\n",
    "import math \n",
    "from decission_trees import HomemadeDecisionTreeRegressor"
   ]
  },
  {
   "cell_type": "code",
   "execution_count": 3,
   "metadata": {},
   "outputs": [],
   "source": [
    "boston_dataset = load_boston()\n",
    "X = boston_dataset[\"data\"]\n",
    "y = boston_dataset[\"target\"]"
   ]
  },
  {
   "cell_type": "code",
   "execution_count": 6,
   "metadata": {},
   "outputs": [],
   "source": [
    "homemade_tree_regressor = HomemadeDecisionTreeRegressor(X,y,4)\n",
    "homemade_tree_regressor.fit()\n",
    "homemade_y = homemade_tree_regressor.predict(X)"
   ]
  },
  {
   "cell_type": "code",
   "execution_count": 7,
   "metadata": {},
   "outputs": [
    {
     "name": "stdout",
     "output_type": "stream",
     "text": [
      "9.64580850677113\n"
     ]
    }
   ],
   "source": [
    "print(np.mean((homemade_y-y)**2))"
   ]
  },
  {
   "cell_type": "code",
   "execution_count": 8,
   "metadata": {},
   "outputs": [],
   "source": [
    "tree = DecisionTreeRegressor(random_state = 0,max_depth = 4)\n",
    "tree.fit(X,y)\n",
    "y_ = tree.predict(X)"
   ]
  },
  {
   "cell_type": "code",
   "execution_count": 9,
   "metadata": {},
   "outputs": [
    {
     "name": "stdout",
     "output_type": "stream",
     "text": [
      "9.64580850677113\n"
     ]
    }
   ],
   "source": [
    "print(np.mean((y_-y)**2))"
   ]
  },
  {
   "cell_type": "markdown",
   "metadata": {},
   "source": [
    "### Boosting"
   ]
  },
  {
   "cell_type": "code",
   "execution_count": 24,
   "metadata": {},
   "outputs": [
    {
     "data": {
      "text/plain": [
       "(506, 13)"
      ]
     },
     "execution_count": 24,
     "metadata": {},
     "output_type": "execute_result"
    }
   ],
   "source": [
    "X.shape"
   ]
  },
  {
   "cell_type": "code",
   "execution_count": 25,
   "metadata": {},
   "outputs": [],
   "source": [
    "X_train = X[:400,:]\n",
    "y_train = y[:400]\n",
    "\n",
    "X_test = X[400:,:]\n",
    "y_test = y[400:]"
   ]
  },
  {
   "cell_type": "code",
   "execution_count": 59,
   "metadata": {},
   "outputs": [],
   "source": [
    "model = HomemadeDecisionTreeRegressor(X_train,y_train,1)\n",
    "model.fit()"
   ]
  },
  {
   "cell_type": "code",
   "execution_count": 61,
   "metadata": {},
   "outputs": [
    {
     "data": {
      "text/plain": [
       "71.9672683504299"
      ]
     },
     "execution_count": 61,
     "metadata": {},
     "output_type": "execute_result"
    }
   ],
   "source": [
    "np.mean((model.predict(X_test) - y_test)**2)"
   ]
  },
  {
   "cell_type": "code",
   "execution_count": 60,
   "metadata": {},
   "outputs": [
    {
     "data": {
      "text/plain": [
       "42.78250537698119"
      ]
     },
     "execution_count": 60,
     "metadata": {},
     "output_type": "execute_result"
    }
   ],
   "source": [
    "np.mean((model.predict(X_train) - y_train)**2)"
   ]
  },
  {
   "cell_type": "code",
   "execution_count": 68,
   "metadata": {},
   "outputs": [
    {
     "name": "stderr",
     "output_type": "stream",
     "text": [
      "/home/guillermo/.local/lib/python3.8/site-packages/numpy/core/fromnumeric.py:3372: RuntimeWarning: Mean of empty slice.\n",
      "/home/guillermo/.local/lib/python3.8/site-packages/numpy/core/_methods.py:170: RuntimeWarning: invalid value encountered in double_scalars\n"
     ]
    }
   ],
   "source": [
    "residual = y_train\n",
    "alpha = 0.1\n",
    "its = 200\n",
    "current_prediction = np.zeros(len(y_train))\n",
    "weak_models = []\n",
    "\n",
    "def evaluate_model(weak_models,X,y):\n",
    "    final_prediction = np.zeros(len(y))\n",
    "    for weak_model in weak_models:\n",
    "        final_prediction+=alpha*weak_model.predict(X)\n",
    "    return(np.mean((y-final_prediction)**2))\n",
    "    \n",
    "errors = []\n",
    "for i in range(its):\n",
    "    weak_model = HomemadeDecisionTreeRegressor(X_train,residual,2)\n",
    "    weak_model.fit()\n",
    "    weak_models.append(weak_model)\n",
    "    pred = weak_model.predict(X_train)\n",
    "    current_prediction = current_prediction + alpha*pred\n",
    "    residual = (residual - alpha*pred)\n",
    "    test_error = evaluate_model(weak_models,X_test,y_test)\n",
    "    train_error = evaluate_model(weak_models,X_train,y_train)\n",
    "    errors.append({\"test_error\":test_error,\"train_error\":train_error,\"it\":i})"
   ]
  },
  {
   "cell_type": "code",
   "execution_count": 69,
   "metadata": {},
   "outputs": [
    {
     "data": {
      "image/png": "[encoded data removed]",
      "text/plain": [
       "<Figure size 640x480 with 1 Axes>"
      ]
     },
     "metadata": {},
     "output_type": "display_data"
    },
    {
     "data": {
      "text/plain": [
       "<ggplot: (8777411177494)>"
      ]
     },
     "execution_count": 69,
     "metadata": {},
     "output_type": "execute_result"
    }
   ],
   "source": [
    "import pandas as pd\n",
    "from plotnine import *\n",
    "errors = pd.DataFrame(errors)\n",
    "ggplot(errors[errors[\"it\"]>20]) + geom_line(aes(x = \"it\",y = \"test_error\"),color = \"red\") + geom_line(aes(x = \"it\",y = \"train_error\"),color = \"blue\")\n",
    "\n"
   ]
  },
  {
   "cell_type": "code",
   "execution_count": 44,
   "metadata": {},
   "outputs": [
    {
     "data": {
      "text/plain": [
       "[{'test_error': 210.4730868306747, 'train_error': 555.6683450216265, 'it': 0},\n",
       " {'test_error': 159.83880868408778, 'train_error': 458.064557587304, 'it': 1},\n",
       " {'test_error': 120.96313933720235, 'train_error': 378.7411297568498, 'it': 2},\n",
       " {'test_error': 96.45035501961213, 'train_error': 314.08835467614773, 'it': 3},\n",
       " {'test_error': 74.01284145510043, 'train_error': 261.3012202859834, 'it': 4},\n",
       " {'test_error': 58.386576411082714, 'train_error': 218.1490751548711, 'it': 5},\n",
       " {'test_error': 48.410409823537485,\n",
       "  'train_error': 182.98912667034486,\n",
       "  'it': 6},\n",
       " {'test_error': 39.420453778823614, 'train_error': 154.2520411067183, 'it': 7},\n",
       " {'test_error': 33.292853680106276, 'train_error': 130.7300962617664, 'it': 8},\n",
       " {'test_error': 29.360328516004017,\n",
       "  'train_error': 111.51428750068114,\n",
       "  'it': 9},\n",
       " {'test_error': 27.058854566065545,\n",
       "  'train_error': 95.67940479589254,\n",
       "  'it': 10},\n",
       " {'test_error': 25.55485862070962, 'train_error': 82.66713641734748, 'it': 11},\n",
       " {'test_error': 23.187924578583285,\n",
       "  'train_error': 71.97975948925153,\n",
       "  'it': 12},\n",
       " {'test_error': 22.95511158375021,\n",
       "  'train_error': 63.129483202081836,\n",
       "  'it': 13},\n",
       " {'test_error': 23.18674130973551,\n",
       "  'train_error': 55.841989283302574,\n",
       "  'it': 14},\n",
       " {'test_error': 21.9050931078046, 'train_error': 49.77052497363854, 'it': 15},\n",
       " {'test_error': 22.291179352531348,\n",
       "  'train_error': 44.76378206145452,\n",
       "  'it': 16},\n",
       " {'test_error': 23.03872898946877, 'train_error': 40.57497446082715, 'it': 17},\n",
       " {'test_error': 22.262155964891154,\n",
       "  'train_error': 37.11940928131944,\n",
       "  'it': 18},\n",
       " {'test_error': 23.018414730098517,\n",
       "  'train_error': 34.19922882806522,\n",
       "  'it': 19},\n",
       " {'test_error': 23.831485583934413,\n",
       "  'train_error': 31.752603045410524,\n",
       "  'it': 20},\n",
       " {'test_error': 23.020805535741165,\n",
       "  'train_error': 29.65818107057099,\n",
       "  'it': 21},\n",
       " {'test_error': 22.012320008218246,\n",
       "  'train_error': 27.890387526661044,\n",
       "  'it': 22},\n",
       " {'test_error': 22.70863515194585, 'train_error': 26.38768883315333, 'it': 23},\n",
       " {'test_error': 23.057950668693504,\n",
       "  'train_error': 25.109430181938126,\n",
       "  'it': 24},\n",
       " {'test_error': 21.68138453954843, 'train_error': 24.00677258496421, 'it': 25},\n",
       " {'test_error': 22.17707066841063, 'train_error': 23.06401280624795, 'it': 26},\n",
       " {'test_error': 21.286689910094125,\n",
       "  'train_error': 22.230312071450843,\n",
       "  'it': 27},\n",
       " {'test_error': 21.711598259762237,\n",
       "  'train_error': 21.50325128220771,\n",
       "  'it': 28},\n",
       " {'test_error': 21.073664604208865,\n",
       "  'train_error': 20.86168834788329,\n",
       "  'it': 29},\n",
       " {'test_error': 21.51406225882614, 'train_error': 20.27277778768707, 'it': 30},\n",
       " {'test_error': 21.778824848014494,\n",
       "  'train_error': 19.749859727699327,\n",
       "  'it': 31},\n",
       " {'test_error': 20.657706355134984,\n",
       "  'train_error': 19.27614418574931,\n",
       "  'it': 32},\n",
       " {'test_error': 20.96919586220914,\n",
       "  'train_error': 18.846051035443267,\n",
       "  'it': 33},\n",
       " {'test_error': 21.11727609668806, 'train_error': 18.45105474092731, 'it': 34},\n",
       " {'test_error': 20.455514343177523,\n",
       "  'train_error': 18.099325643022766,\n",
       "  'it': 35},\n",
       " {'test_error': 20.570037712069947,\n",
       "  'train_error': 17.773913548146535,\n",
       "  'it': 36},\n",
       " {'test_error': 19.622642565840227,\n",
       "  'train_error': 17.456142801224924,\n",
       "  'it': 37},\n",
       " {'test_error': 19.581647724332537,\n",
       "  'train_error': 17.16138244579898,\n",
       "  'it': 38},\n",
       " {'test_error': 19.724891735658083,\n",
       "  'train_error': 16.898548776151454,\n",
       "  'it': 39},\n",
       " {'test_error': 19.247669112000253,\n",
       "  'train_error': 16.640440093047975,\n",
       "  'it': 40},\n",
       " {'test_error': 19.248636920964636,\n",
       "  'train_error': 16.402003043816556,\n",
       "  'it': 41},\n",
       " {'test_error': 19.357797286146457,\n",
       "  'train_error': 16.177414154779434,\n",
       "  'it': 42},\n",
       " {'test_error': 18.797214326798994,\n",
       "  'train_error': 15.957004987464488,\n",
       "  'it': 43},\n",
       " {'test_error': 18.78204922173744,\n",
       "  'train_error': 15.756648387786374,\n",
       "  'it': 44},\n",
       " {'test_error': 18.081335235646513,\n",
       "  'train_error': 15.553512802031559,\n",
       "  'it': 45},\n",
       " {'test_error': 18.046659223336363,\n",
       "  'train_error': 15.358844721211273,\n",
       "  'it': 46},\n",
       " {'test_error': 17.957018745188538,\n",
       "  'train_error': 15.17501697671532,\n",
       "  'it': 47},\n",
       " {'test_error': 17.921969078170953,\n",
       "  'train_error': 15.001767471345028,\n",
       "  'it': 48},\n",
       " {'test_error': 17.504198405366388,\n",
       "  'train_error': 14.83595685854066,\n",
       "  'it': 49},\n",
       " {'test_error': 17.059185043599175,\n",
       "  'train_error': 14.680241613535042,\n",
       "  'it': 50},\n",
       " {'test_error': 17.014575711498317,\n",
       "  'train_error': 14.521972502094881,\n",
       "  'it': 51},\n",
       " {'test_error': 16.958469499934843,\n",
       "  'train_error': 14.37408025357677,\n",
       "  'it': 52},\n",
       " {'test_error': 16.565923803886385,\n",
       "  'train_error': 14.231862351513069,\n",
       "  'it': 53},\n",
       " {'test_error': 16.529265757904422,\n",
       "  'train_error': 14.09279166382422,\n",
       "  'it': 54},\n",
       " {'test_error': 16.541110702583033,\n",
       "  'train_error': 13.954056790561586,\n",
       "  'it': 55},\n",
       " {'test_error': 16.48058615360768,\n",
       "  'train_error': 13.822167544646794,\n",
       "  'it': 56},\n",
       " {'test_error': 16.432632507428757,\n",
       "  'train_error': 13.694764274572567,\n",
       "  'it': 57},\n",
       " {'test_error': 16.03335413172161,\n",
       "  'train_error': 13.571430500092928,\n",
       "  'it': 58},\n",
       " {'test_error': 16.047756250654498, 'train_error': 13.4536587771968, 'it': 59},\n",
       " {'test_error': 15.98794056448571, 'train_error': 13.34062191735348, 'it': 60},\n",
       " {'test_error': 16.01500946228625,\n",
       "  'train_error': 13.227983508671143,\n",
       "  'it': 61},\n",
       " {'test_error': 16.00421185986499,\n",
       "  'train_error': 13.116776726783824,\n",
       "  'it': 62},\n",
       " {'test_error': 15.894282942991973,\n",
       "  'train_error': 13.010054074480985,\n",
       "  'it': 63},\n",
       " {'test_error': 15.631377911764492,\n",
       "  'train_error': 12.906584013446713,\n",
       "  'it': 64},\n",
       " {'test_error': 15.577853037337574,\n",
       "  'train_error': 12.804141239577016,\n",
       "  'it': 65},\n",
       " {'test_error': 15.50869171952475,\n",
       "  'train_error': 12.703837802042823,\n",
       "  'it': 66},\n",
       " {'test_error': 15.446779731132295,\n",
       "  'train_error': 12.607862207993866,\n",
       "  'it': 67},\n",
       " {'test_error': 15.008180517031933,\n",
       "  'train_error': 12.516949977199197,\n",
       "  'it': 68},\n",
       " {'test_error': 14.971790544659473,\n",
       "  'train_error': 12.425833209927697,\n",
       "  'it': 69},\n",
       " {'test_error': 14.965913600294988,\n",
       "  'train_error': 12.336978605501029,\n",
       "  'it': 70},\n",
       " {'test_error': 14.980694977017176,\n",
       "  'train_error': 12.24946465434663,\n",
       "  'it': 71},\n",
       " {'test_error': 14.935308459001913,\n",
       "  'train_error': 12.162462053504019,\n",
       "  'it': 72},\n",
       " {'test_error': 15.12505857821233,\n",
       "  'train_error': 12.078800096588823,\n",
       "  'it': 73},\n",
       " {'test_error': 14.893396072678057,\n",
       "  'train_error': 11.995163516563121,\n",
       "  'it': 74},\n",
       " {'test_error': 14.849284020975835,\n",
       "  'train_error': 11.915273283148194,\n",
       "  'it': 75},\n",
       " {'test_error': 14.809830093030772,\n",
       "  'train_error': 11.83578278588657,\n",
       "  'it': 76},\n",
       " {'test_error': 14.75773482777534,\n",
       "  'train_error': 11.758608585794327,\n",
       "  'it': 77},\n",
       " {'test_error': 14.594932713946474,\n",
       "  'train_error': 11.68250124977963,\n",
       "  'it': 78},\n",
       " {'test_error': 14.605943240300824,\n",
       "  'train_error': 11.607656822698882,\n",
       "  'it': 79},\n",
       " {'test_error': 14.606862824845958,\n",
       "  'train_error': 11.533952706148536,\n",
       "  'it': 80},\n",
       " {'test_error': 14.772432361753923,\n",
       "  'train_error': 11.462373522091063,\n",
       "  'it': 81},\n",
       " {'test_error': 14.757731765153554,\n",
       "  'train_error': 11.392518480440451,\n",
       "  'it': 82},\n",
       " {'test_error': 14.600428525144585,\n",
       "  'train_error': 11.32271929941937,\n",
       "  'it': 83},\n",
       " {'test_error': 14.514437939841713,\n",
       "  'train_error': 11.25659110057798,\n",
       "  'it': 84},\n",
       " {'test_error': 14.602530727618054,\n",
       "  'train_error': 11.189010345813198,\n",
       "  'it': 85},\n",
       " {'test_error': 14.628935364274884,\n",
       "  'train_error': 11.124666698022201,\n",
       "  'it': 86},\n",
       " {'test_error': 14.590771597235799,\n",
       "  'train_error': 11.062089430506049,\n",
       "  'it': 87},\n",
       " {'test_error': 14.599764051910759,\n",
       "  'train_error': 10.999800873680835,\n",
       "  'it': 88},\n",
       " {'test_error': 14.657462550608113,\n",
       "  'train_error': 10.937924365051613,\n",
       "  'it': 89},\n",
       " {'test_error': 14.62313956933433,\n",
       "  'train_error': 10.876511710287826,\n",
       "  'it': 90},\n",
       " {'test_error': 14.294182933454245,\n",
       "  'train_error': 10.815760168406557,\n",
       "  'it': 91},\n",
       " {'test_error': 14.375744096727555,\n",
       "  'train_error': 10.756629753182256,\n",
       "  'it': 92},\n",
       " {'test_error': 14.368319917766891,\n",
       "  'train_error': 10.701192958156266,\n",
       "  'it': 93},\n",
       " {'test_error': 14.296366182894516,\n",
       "  'train_error': 10.645958820012975,\n",
       "  'it': 94},\n",
       " {'test_error': 14.212824269122478,\n",
       "  'train_error': 10.592063043857628,\n",
       "  'it': 95},\n",
       " {'test_error': 14.17242861671274,\n",
       "  'train_error': 10.538693785561941,\n",
       "  'it': 96},\n",
       " {'test_error': 14.128676993113302,\n",
       "  'train_error': 10.486616917943644,\n",
       "  'it': 97},\n",
       " {'test_error': 14.13590691867047,\n",
       "  'train_error': 10.435455316146927,\n",
       "  'it': 98},\n",
       " {'test_error': 14.10269190815031,\n",
       "  'train_error': 10.382583428666832,\n",
       "  'it': 99}]"
      ]
     },
     "execution_count": 44,
     "metadata": {},
     "output_type": "execute_result"
    }
   ],
   "source": [
    "errors"
   ]
  },
  {
   "cell_type": "code",
   "execution_count": 23,
   "metadata": {},
   "outputs": [
    {
     "data": {
      "text/plain": [
       "14.51105945449502"
      ]
     },
     "execution_count": 23,
     "metadata": {},
     "output_type": "execute_result"
    }
   ],
   "source": [
    "np.mean((y-final_prediction)**2)"
   ]
  }
 ],
 "metadata": {
  "kernelspec": {
   "display_name": "Python 3",
   "language": "python",
   "name": "python3"
  },
  "language_info": {
   "codemirror_mode": {
    "name": "ipython",
    "version": 3
   },
   "file_extension": ".py",
   "mimetype": "text/x-python",
   "name": "python",
   "nbconvert_exporter": "python",
   "pygments_lexer": "ipython3",
   "version": "3.8.5"
  }
 },
 "nbformat": 4,
 "nbformat_minor": 4
}
