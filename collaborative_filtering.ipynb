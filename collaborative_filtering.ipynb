{
 "cells": [
  {
   "cell_type": "markdown",
   "metadata": {},
   "source": [
    "## Collaborative filtering"
   ]
  },
  {
   "cell_type": "markdown",
   "metadata": {},
   "source": [
    "Consider a weighted bipartite graph were each set of vertices represents an entity such as *users* vs *products*. A (weighted) edge between two nodes normally means an interaction between the two entities. In our example, if a *user* and a certain *product* are connected it means that the *user* has acquired the *product* and has given it a rating (from 0 to 5, for example), which is represented by the weight of the edge. In collaborative filtering one tries to guess the weights of those pairs of vertices which are not connected, by considering those which are connected. "
   ]
  },
  {
   "cell_type": "markdown",
   "metadata": {},
   "source": [
    "### The content base approach"
   ]
  },
  {
   "cell_type": "markdown",
   "metadata": {},
   "source": [
    "Imagine that we have some feature vector $X$ describing each product. Then for **each** user, we can train a linear regression model on those products that are connected to that user, using their features $X$ to predict their weights $y$.\n",
    "\n",
    "Let $edge(u)$ be all products connected to the user $u$. Then as we saw in other notebooks, this is equivalent to minimizing the loss function: $L(w,b) = \\frac{1}{2|edge(u)|}\\sum_{(x,y)\\in edge(u)} (f_{w,b}(x) - y)^{2}$, where $f_{w,b}(x) = \\sum_{1}^{n} x_{i}w_{i} + b$ and $w$ and $b$ are the parameters of our model. \n",
    "\n",
    "In order to simplify this expression, let's write it in a matricial form, compressing the bias term. Let $X = (1,x_{1}, \\dots, x_{n})$ and $W = (b,w_{1},\\dots,w_{n})$, so $f_{W}(x) = WX^{t}$ and $L(W) = \\frac{1}{2|edge(u)|}\\sum_{(X,y)\\in edge(u)} (WX^{t} - y)^{2}$. \n",
    "\n",
    "If we do this for all users, and aggregate their loss functions in one, we get:\n",
    "\n",
    "$L(W_{1},\\dots,W_{m}) = \\sum_{i = 1}^{m}L(W_{i}) = \\sum_{i = 1}^{m}(\\frac{1}{2|edge(u_i)|}\\sum_{(X,y)\\in edge(u_i)} (W_{i}X^{t} - y)^{2})$. \n",
    "\n",
    "Since now we are iterating through each edge of the graph, we can group the two summands in just one (per edge), and therefore:\n",
    "\n",
    "$L(W) = \\frac{1}{2}\\sum_{(W,X,y)\\in E} (WX^{t} - y)^{2}$, where each edge $E$ from $user$ to $product$ is a triplet $(W,X,y)$, where $W$ is the model of the user, $X$ the features of the product and $y$ the weight of the edge\n",
    "\n",
    "\n",
    "Of course, since the $W_{i}$ only depends on the user $i$, it is exactly the same to minimize each loss function for each user independently or to minimize the sum of all of them together. "
   ]
  },
  {
   "cell_type": "markdown",
   "metadata": {},
   "source": [
    "### The collaborative approach"
   ]
  },
  {
   "cell_type": "markdown",
   "metadata": {},
   "source": [
    "The problem is that, in general, one does not have the vector of features $X$ for each product, since computing it is very costly. The collaborative filtering approach is based on modeling these vectors $X$s along with their respective user models $W$s. So the loss function defined above does not depend only on the user models $W_{1},\\dots,W_{m}$ but also on the feature vectors of the products, $X_{1},\\dots X_{m'}$, so we simply try to minimize:\n",
    "\n",
    "$L(W_{1},\\dots,W_{m},X_{1},\\dots X_{m'})$\n",
    "\n",
    "As in other notebooks, we want to use gradient descent to do that, and therefore we want to compute the partial derivative of $L$ with respect to each of its variables. In particular:\n",
    "\n",
    "$\\frac{\\partial L}{\\partial W_{i}} = \\frac{1}{2}\\sum_{(W_{i},X,y)\\in E} (W_{i}X^{t} - y)X$\n",
    "\n",
    "$\\frac{\\partial L}{\\partial X_{j}} = \\frac{1}{2}\\sum_{(W,X_{j},y)\\in E} (WX_{j}^{t} - y)W$"
   ]
  },
  {
   "cell_type": "markdown",
   "metadata": {},
   "source": [
    "Of course, we need to initialize $W$ and $X$ to certain random (small) values and we need to define $n$ the number of features and therefore dimensions of $W$ and $X$. Let's do an example, with an [imdb movie ratings dataset](https://www.kaggle.com/rounakbanik/the-movies-dataset#ratings_small.csv)."
   ]
  },
  {
   "cell_type": "code",
   "execution_count": 132,
   "metadata": {},
   "outputs": [],
   "source": [
    "import pandas as pd\n",
    "import numpy as np\n",
    "ratings = pd.read_csv(\"ratings_small.csv\")"
   ]
  },
  {
   "cell_type": "code",
   "execution_count": 65,
   "metadata": {},
   "outputs": [],
   "source": [
    "# number of features\n",
    "n = 5\n",
    "# size of one set of vertices\n",
    "n_users = len(ratings.userId.unique())\n",
    "# size of the other set of vertices\n",
    "n_products = len(ratings.movieId.unique())"
   ]
  },
  {
   "cell_type": "code",
   "execution_count": 38,
   "metadata": {},
   "outputs": [
    {
     "data": {
      "text/plain": [
       "<matplotlib.axes._subplots.AxesSubplot at 0x113b87290>"
      ]
     },
     "execution_count": 38,
     "metadata": {},
     "output_type": "execute_result"
    },
    {
     "data": {
      "image/png": "[encoded data removed]",
      "text/plain": [
       "<Figure size 432x288 with 1 Axes>"
      ]
     },
     "metadata": {
      "needs_background": "light"
     },
     "output_type": "display_data"
    }
   ],
   "source": [
    "%matplotlib inline\n",
    "\n",
    "ratings.rating.hist(bins=5)"
   ]
  },
  {
   "cell_type": "code",
   "execution_count": 142,
   "metadata": {},
   "outputs": [],
   "source": [
    "graph = np.asarray(ratings.pivot(index=\"userId\",columns = \"movieId\",values = \"rating\"))\n",
    "movie_ids = ratings.pivot(index=\"userId\",columns = \"movieId\",values = \"rating\").axes[1]\n",
    "graph = np.asarray(graph)"
   ]
  },
  {
   "cell_type": "markdown",
   "metadata": {},
   "source": [
    "Here is the adjency matrix of the bipartite graph:"
   ]
  },
  {
   "cell_type": "code",
   "execution_count": 21,
   "metadata": {},
   "outputs": [
    {
     "data": {
      "text/plain": [
       "(671, 9066)"
      ]
     },
     "execution_count": 21,
     "metadata": {},
     "output_type": "execute_result"
    }
   ],
   "source": [
    "graph.shape"
   ]
  },
  {
   "cell_type": "markdown",
   "metadata": {},
   "source": [
    "Let's pick some edges of the graph for evaluation:"
   ]
  },
  {
   "cell_type": "code",
   "execution_count": 75,
   "metadata": {},
   "outputs": [],
   "source": [
    "# These are the positions of the non null edges in the matrix\n",
    "not_null_edges = np.where(~pd.isnull(graph))\n",
    "total_edges = len(not_null_edges[0])\n",
    "# Pick the 20% of them for evaluation\n",
    "eval_edges_pos = np.random.randint(low = 0,high=len(not_null_edges[0]),size=int(total_edges*0.8))\n",
    "eval_y = graph[(not_null_edges[0][eval_edges_pos],not_null_edges[1][eval_edges_pos])]\n",
    "# Create two graphs, one for training and one for evaluation\n",
    "train_graph = graph.copy()\n",
    "eval_graph = graph.copy()\n",
    "eval_graph[:,:] = np.nan\n",
    "#Remove the edges of evaluation from the graph for training\n",
    "train_graph[(not_null_edges[0][eval_edges_pos],not_null_edges[1][eval_edges_pos])] = np.nan\n",
    "#Add the edges for evaluation for the graph for evaluating\n",
    "eval_graph[(not_null_edges[0][eval_edges_pos],not_null_edges[1][eval_edges_pos])] = eval_y"
   ]
  },
  {
   "cell_type": "code",
   "execution_count": 69,
   "metadata": {},
   "outputs": [],
   "source": [
    "n_train = len(np.where(~pd.isnull(train_graph))[0])\n",
    "n_eval = len(np.where(~pd.isnull(eval_graph))[0])"
   ]
  },
  {
   "cell_type": "markdown",
   "metadata": {},
   "source": [
    "Implement a gradient descend strategy to find a minimum. Run it for 500 iterations:"
   ]
  },
  {
   "cell_type": "code",
   "execution_count": 127,
   "metadata": {},
   "outputs": [],
   "source": [
    "def gradient_descend(its):\n",
    "    #initialize the models and features matrices\n",
    "    W = np.random.rand(n_users,n)\n",
    "    X = np.random.rand(n_products,n)\n",
    "    metris = []\n",
    "    for i in range(its):\n",
    "        if i%100==0:\n",
    "            print(i)\n",
    "        #WX - y \n",
    "        train_dif_pred_true = (np.dot(W,X.T) - train_graph)\n",
    "        eval_dif_pred_true = (np.dot(W,X.T) - eval_graph)\n",
    "        #WX - y with nans imputed as 0\n",
    "        dif_pred_true_imputed_0  = train_dif_pred_true.copy()\n",
    "        dif_pred_true_imputed_0[np.where(pd.isnull(dif_pred_true_imputed_0))] = 0\n",
    "        #Train loss\n",
    "        L_train = 0.5*np.nansum(train_dif_pred_true**2) / n_train\n",
    "        #Eval loss\n",
    "        L_eval = 0.5*np.nansum(eval_dif_pred_true**2) / n_eval\n",
    "\n",
    "        metrics.append({\"loss\":L_train,\"iter\":i,\"set\":\"train\"})\n",
    "        metrics.append({\"loss\":L_eval,\"iter\":i,\"set\":\"eval\"})\n",
    "        #dX = (WX - y)*W\n",
    "        dX = 0.5*np.dot(dif_pred_true_imputed_0.T,W)\n",
    "        #dW = (WX - y)*X\n",
    "        dW = 0.5*np.dot(dif_pred_true_imputed_0,X)\n",
    "        #gradient descend step\n",
    "        X = X - 0.001*dX\n",
    "        W = W - 0.001*dW\n",
    "\n",
    "    return metrics,X,W"
   ]
  },
  {
   "cell_type": "code",
   "execution_count": 82,
   "metadata": {},
   "outputs": [
    {
     "name": "stdout",
     "output_type": "stream",
     "text": [
      "0\n",
      "100\n",
      "200\n",
      "300\n",
      "400\n"
     ]
    }
   ],
   "source": [
    "metrics, X, W = gradient_descend(its = 500)"
   ]
  },
  {
   "cell_type": "markdown",
   "metadata": {},
   "source": [
    "Plot the evolution of the loss of eval and train with the gradient descend steps:"
   ]
  },
  {
   "cell_type": "code",
   "execution_count": 73,
   "metadata": {},
   "outputs": [
    {
     "data": {
      "image/png": "[encoded data removed]",
      "text/plain": [
       "<Figure size 640x480 with 1 Axes>"
      ]
     },
     "metadata": {},
     "output_type": "display_data"
    },
    {
     "data": {
      "text/plain": [
       "<ggplot: (285734225)>"
      ]
     },
     "execution_count": 73,
     "metadata": {},
     "output_type": "execute_result"
    }
   ],
   "source": [
    "from plotnine import *\n",
    "metrics = pd.DataFrame(metrics)\n",
    "ggplot(metrics[metrics[\"iter\"]>8]) + geom_line(aes(x=\"iter\",y = \"loss\",color = \"set\"))"
   ]
  },
  {
   "cell_type": "markdown",
   "metadata": {},
   "source": [
    "As expected, the train loss consistenly descends and the eval one descends for the first 150 iterations and then starts to increase again. This is obviously overfitting and therefore we should *early stop* the algorithm after 150 its.\n",
    "\n"
   ]
  },
  {
   "cell_type": "code",
   "execution_count": 128,
   "metadata": {},
   "outputs": [
    {
     "name": "stdout",
     "output_type": "stream",
     "text": [
      "0\n",
      "100\n"
     ]
    }
   ],
   "source": [
    "metrics, X, W = gradient_descend(its = 150)"
   ]
  },
  {
   "cell_type": "markdown",
   "metadata": {},
   "source": [
    "Now, to understand if the model is working well, for a given movie, let's try to find those that have similar features. To do that we need to merge the original dataset (which only has `movieIds`) with [this](https://www.kaggle.com/rounakbanik/the-movies-dataset#links_small.csv) and [this one](https://www.kaggle.com/rounakbanik/the-movies-dataset#movies_metadata.csv):"
   ]
  },
  {
   "cell_type": "code",
   "execution_count": 85,
   "metadata": {},
   "outputs": [
    {
     "name": "stderr",
     "output_type": "stream",
     "text": [
      "/usr/local/lib/python3.7/site-packages/IPython/core/interactiveshell.py:3058: DtypeWarning: Columns (10) have mixed types. Specify dtype option on import or set low_memory=False.\n",
      "  interactivity=interactivity, compiler=compiler, result=result)\n"
     ]
    }
   ],
   "source": [
    "movie_data = pd.read_csv(\"movies_metadata.csv\")\n",
    "movie_links = pd.read_csv(\"links_small.csv\")"
   ]
  },
  {
   "cell_type": "code",
   "execution_count": 86,
   "metadata": {},
   "outputs": [
    {
     "data": {
      "text/html": [
       "<div>\n",
       "<style scoped>\n",
       "    .dataframe tbody tr th:only-of-type {\n",
       "        vertical-align: middle;\n",
       "    }\n",
       "\n",
       "    .dataframe tbody tr th {\n",
       "        vertical-align: top;\n",
       "    }\n",
       "\n",
       "    .dataframe thead th {\n",
       "        text-align: right;\n",
       "    }\n",
       "</style>\n",
       "<table border=\"1\" class=\"dataframe\">\n",
       "  <thead>\n",
       "    <tr style=\"text-align: right;\">\n",
       "      <th></th>\n",
       "      <th>movieId</th>\n",
       "      <th>imdbId</th>\n",
       "      <th>tmdbId</th>\n",
       "    </tr>\n",
       "  </thead>\n",
       "  <tbody>\n",
       "    <tr>\n",
       "      <td>0</td>\n",
       "      <td>1</td>\n",
       "      <td>114709</td>\n",
       "      <td>862.0</td>\n",
       "    </tr>\n",
       "    <tr>\n",
       "      <td>1</td>\n",
       "      <td>2</td>\n",
       "      <td>113497</td>\n",
       "      <td>8844.0</td>\n",
       "    </tr>\n",
       "    <tr>\n",
       "      <td>2</td>\n",
       "      <td>3</td>\n",
       "      <td>113228</td>\n",
       "      <td>15602.0</td>\n",
       "    </tr>\n",
       "    <tr>\n",
       "      <td>3</td>\n",
       "      <td>4</td>\n",
       "      <td>114885</td>\n",
       "      <td>31357.0</td>\n",
       "    </tr>\n",
       "    <tr>\n",
       "      <td>4</td>\n",
       "      <td>5</td>\n",
       "      <td>113041</td>\n",
       "      <td>11862.0</td>\n",
       "    </tr>\n",
       "  </tbody>\n",
       "</table>\n",
       "</div>"
      ],
      "text/plain": [
       "   movieId  imdbId   tmdbId\n",
       "0        1  114709    862.0\n",
       "1        2  113497   8844.0\n",
       "2        3  113228  15602.0\n",
       "3        4  114885  31357.0\n",
       "4        5  113041  11862.0"
      ]
     },
     "execution_count": 86,
     "metadata": {},
     "output_type": "execute_result"
    }
   ],
   "source": [
    "movie_links.head()"
   ]
  },
  {
   "cell_type": "code",
   "execution_count": 90,
   "metadata": {},
   "outputs": [
    {
     "data": {
      "text/plain": [
       "(100004, 4)"
      ]
     },
     "execution_count": 90,
     "metadata": {},
     "output_type": "execute_result"
    }
   ],
   "source": [
    "ratings.shape"
   ]
  },
  {
   "cell_type": "code",
   "execution_count": 144,
   "metadata": {},
   "outputs": [],
   "source": [
    "ratings = pd.merge(ratings,movie_links, on = [\"movieId\"], how = \"left\")"
   ]
  },
  {
   "cell_type": "code",
   "execution_count": 145,
   "metadata": {},
   "outputs": [
    {
     "data": {
      "text/plain": [
       "(100004, 6)"
      ]
     },
     "execution_count": 145,
     "metadata": {},
     "output_type": "execute_result"
    }
   ],
   "source": [
    "ratings.shape"
   ]
  },
  {
   "cell_type": "code",
   "execution_count": 146,
   "metadata": {},
   "outputs": [],
   "source": [
    "movie_data[\"imdbId\"] = movie_data[\"imdb_id\"].astype(str).apply(lambda x: x.strip(\"tt\")).astype(\"float64\")"
   ]
  },
  {
   "cell_type": "code",
   "execution_count": 147,
   "metadata": {},
   "outputs": [],
   "source": [
    "ratings = pd.merge(ratings,movie_data[[\"original_title\",\"imdbId\"]], on = [\"imdbId\"], how = \"left\")"
   ]
  },
  {
   "cell_type": "code",
   "execution_count": 148,
   "metadata": {},
   "outputs": [
    {
     "data": {
      "text/html": [
       "<div>\n",
       "<style scoped>\n",
       "    .dataframe tbody tr th:only-of-type {\n",
       "        vertical-align: middle;\n",
       "    }\n",
       "\n",
       "    .dataframe tbody tr th {\n",
       "        vertical-align: top;\n",
       "    }\n",
       "\n",
       "    .dataframe thead th {\n",
       "        text-align: right;\n",
       "    }\n",
       "</style>\n",
       "<table border=\"1\" class=\"dataframe\">\n",
       "  <thead>\n",
       "    <tr style=\"text-align: right;\">\n",
       "      <th></th>\n",
       "      <th>userId</th>\n",
       "      <th>movieId</th>\n",
       "      <th>rating</th>\n",
       "      <th>timestamp</th>\n",
       "      <th>imdbId</th>\n",
       "      <th>tmdbId</th>\n",
       "      <th>original_title</th>\n",
       "    </tr>\n",
       "  </thead>\n",
       "  <tbody>\n",
       "    <tr>\n",
       "      <td>0</td>\n",
       "      <td>1</td>\n",
       "      <td>31</td>\n",
       "      <td>2.5</td>\n",
       "      <td>1260759144</td>\n",
       "      <td>112792</td>\n",
       "      <td>9909.0</td>\n",
       "      <td>Dangerous Minds</td>\n",
       "    </tr>\n",
       "    <tr>\n",
       "      <td>1</td>\n",
       "      <td>1</td>\n",
       "      <td>1029</td>\n",
       "      <td>3.0</td>\n",
       "      <td>1260759179</td>\n",
       "      <td>33563</td>\n",
       "      <td>11360.0</td>\n",
       "      <td>Dumbo</td>\n",
       "    </tr>\n",
       "    <tr>\n",
       "      <td>2</td>\n",
       "      <td>1</td>\n",
       "      <td>1061</td>\n",
       "      <td>3.0</td>\n",
       "      <td>1260759182</td>\n",
       "      <td>117665</td>\n",
       "      <td>819.0</td>\n",
       "      <td>Sleepers</td>\n",
       "    </tr>\n",
       "    <tr>\n",
       "      <td>3</td>\n",
       "      <td>1</td>\n",
       "      <td>1129</td>\n",
       "      <td>2.0</td>\n",
       "      <td>1260759185</td>\n",
       "      <td>82340</td>\n",
       "      <td>1103.0</td>\n",
       "      <td>Escape from New York</td>\n",
       "    </tr>\n",
       "    <tr>\n",
       "      <td>4</td>\n",
       "      <td>1</td>\n",
       "      <td>1172</td>\n",
       "      <td>4.0</td>\n",
       "      <td>1260759205</td>\n",
       "      <td>95765</td>\n",
       "      <td>11216.0</td>\n",
       "      <td>Nuovo Cinema Paradiso</td>\n",
       "    </tr>\n",
       "  </tbody>\n",
       "</table>\n",
       "</div>"
      ],
      "text/plain": [
       "   userId  movieId  rating   timestamp  imdbId   tmdbId         original_title\n",
       "0       1       31     2.5  1260759144  112792   9909.0        Dangerous Minds\n",
       "1       1     1029     3.0  1260759179   33563  11360.0                  Dumbo\n",
       "2       1     1061     3.0  1260759182  117665    819.0               Sleepers\n",
       "3       1     1129     2.0  1260759185   82340   1103.0   Escape from New York\n",
       "4       1     1172     4.0  1260759205   95765  11216.0  Nuovo Cinema Paradiso"
      ]
     },
     "execution_count": 148,
     "metadata": {},
     "output_type": "execute_result"
    }
   ],
   "source": [
    "ratings.head()"
   ]
  },
  {
   "cell_type": "markdown",
   "metadata": {},
   "source": [
    "Now, for each set of movies, compute the euclidean distance between their features:"
   ]
  },
  {
   "cell_type": "code",
   "execution_count": 149,
   "metadata": {},
   "outputs": [
    {
     "data": {
      "text/plain": [
       "array([[0.24151084, 0.88620116, 1.08463176, 0.42388025, 0.77823784],\n",
       "       [0.92033469, 0.56511194, 0.86467724, 0.37682874, 0.53130726],\n",
       "       [0.35309347, 1.02039429, 0.53595548, 0.58133718, 0.57352218],\n",
       "       ...,\n",
       "       [0.6370345 , 0.83710382, 0.70049109, 0.42592349, 0.85772037],\n",
       "       [0.54273103, 0.40463388, 0.79950638, 0.80133847, 0.89316129],\n",
       "       [0.48722817, 0.19044246, 0.90436759, 0.83594979, 0.65213673]])"
      ]
     },
     "execution_count": 149,
     "metadata": {},
     "output_type": "execute_result"
    }
   ],
   "source": [
    "X-"
   ]
  },
  {
   "cell_type": "code",
   "execution_count": 115,
   "metadata": {},
   "outputs": [
    {
     "data": {
      "text/plain": [
       "0         114709.0\n",
       "1         113497.0\n",
       "2         113228.0\n",
       "3         114885.0\n",
       "4         113041.0\n",
       "           ...    \n",
       "45461    6209470.0\n",
       "45462    2028550.0\n",
       "45463     303758.0\n",
       "45464       8536.0\n",
       "45465    6980792.0\n",
       "Name: imdbId, Length: 45466, dtype: float64"
      ]
     },
     "execution_count": 115,
     "metadata": {},
     "output_type": "execute_result"
    }
   ],
   "source": [
    "movie_data[\"imdbId\"]"
   ]
  }
 ],
 "metadata": {
  "kernelspec": {
   "display_name": "Python 3",
   "language": "python",
   "name": "python3"
  },
  "language_info": {
   "codemirror_mode": {
    "name": "ipython",
    "version": 3
   },
   "file_extension": ".py",
   "mimetype": "text/x-python",
   "name": "python",
   "nbconvert_exporter": "python",
   "pygments_lexer": "ipython3",
   "version": "3.7.7"
  }
 },
 "nbformat": 4,
 "nbformat_minor": 2
}
